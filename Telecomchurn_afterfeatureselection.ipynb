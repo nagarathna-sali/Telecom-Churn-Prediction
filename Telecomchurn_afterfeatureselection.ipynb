{
  "nbformat": 4,
  "nbformat_minor": 0,
  "metadata": {
    "accelerator": "GPU",
    "colab": {
      "name": "Telecomchurn_IBM_afterfeaturesel.ipynb",
      "provenance": [],
      "collapsed_sections": []
    },
    "kernelspec": {
      "display_name": "Python 3",
      "language": "python",
      "name": "python3"
    },
    "language_info": {
      "codemirror_mode": {
        "name": "ipython",
        "version": 3
      },
      "file_extension": ".py",
      "mimetype": "text/x-python",
      "name": "python",
      "nbconvert_exporter": "python",
      "pygments_lexer": "ipython3",
      "version": "3.8.3"
    }
  },
  "cells": [
    {
      "cell_type": "markdown",
      "metadata": {
        "id": "j0AeDHqRIxwx"
      },
      "source": [
        "Importing required packages"
      ]
    },
    {
      "cell_type": "code",
      "metadata": {
        "id": "jyvoakBs1svi",
        "colab": {
          "base_uri": "https://localhost:8080/"
        },
        "outputId": "b32acb1c-ccaa-478b-9cf5-e6e0c4a611ac"
      },
      "source": [
        "import numpy as np\n",
        "import pandas as pd\n",
        "import matplotlib.pyplot as plt\n",
        "import xgboost as xgb\n",
        "import seaborn as sns\n",
        "from sklearn.model_selection import train_test_split\n",
        "from sklearn.preprocessing import StandardScaler\n",
        "from sklearn import tree\n",
        "from sklearn.model_selection import GridSearchCV\n",
        "from sklearn import metrics\n",
        "from imblearn.over_sampling import SMOTE  # imblearn library can be installed using pip install imblearn\n",
        "from sklearn.ensemble import RandomForestClassifier\n",
        "from sklearn.neighbors import KNeighborsClassifier\n",
        "import plotly.graph_objs as go\n",
        "import plotly .offline as offline\n",
        "import plotly.figure_factory as ff\n",
        "from sklearn.svm import SVC \n",
        "from sklearn.metrics import confusion_matrix, accuracy_score, classification_report"
      ],
      "execution_count": null,
      "outputs": [
        {
          "output_type": "stream",
          "text": [
            "/usr/local/lib/python3.6/dist-packages/sklearn/externals/six.py:31: FutureWarning: The module is deprecated in version 0.21 and will be removed in version 0.23 since we've dropped support for Python 2.7. Please rely on the official version of six (https://pypi.org/project/six/).\n",
            "  \"(https://pypi.org/project/six/).\", FutureWarning)\n",
            "/usr/local/lib/python3.6/dist-packages/sklearn/utils/deprecation.py:144: FutureWarning: The sklearn.neighbors.base module is  deprecated in version 0.22 and will be removed in version 0.24. The corresponding classes / functions should instead be imported from sklearn.neighbors. Anything that cannot be imported from sklearn.neighbors is now part of the private API.\n",
            "  warnings.warn(message, FutureWarning)\n"
          ],
          "name": "stderr"
        }
      ]
    },
    {
      "cell_type": "code",
      "metadata": {
        "id": "RfVOK4I11svv"
      },
      "source": [
        "#pip install xgboost"
      ],
      "execution_count": null,
      "outputs": []
    },
    {
      "cell_type": "markdown",
      "metadata": {
        "id": "C-tweVT5I6dZ"
      },
      "source": [
        "Importing the datset and analysing"
      ]
    },
    {
      "cell_type": "code",
      "metadata": {
        "colab": {
          "base_uri": "https://localhost:8080/"
        },
        "id": "MmfF_hNq1svw",
        "outputId": "a2128b9a-b090-4d6c-f376-42cf0d2431bd"
      },
      "source": [
        "dataset = pd.read_csv(\"/content/WA_Fn-UseC_-Telco-Customer-Churn.csv\")\n",
        "pd.set_option('display.max_columns', None) # Will ensure that all columns are displayed\n",
        "print(dataset.head())\n",
        "print(dataset.shape)\n",
        "print(dataset.info())\n",
        "print(dataset.describe())"
      ],
      "execution_count": null,
      "outputs": [
        {
          "output_type": "stream",
          "text": [
            "   customerID  gender  SeniorCitizen Partner Dependents  tenure PhoneService  \\\n",
            "0  7590-VHVEG  Female              0     Yes         No       1           No   \n",
            "1  5575-GNVDE    Male              0      No         No      34          Yes   \n",
            "2  3668-QPYBK    Male              0      No         No       2          Yes   \n",
            "3  7795-CFOCW    Male              0      No         No      45           No   \n",
            "4  9237-HQITU  Female              0      No         No       2          Yes   \n",
            "\n",
            "      MultipleLines InternetService OnlineSecurity OnlineBackup  \\\n",
            "0  No phone service             DSL             No          Yes   \n",
            "1                No             DSL            Yes           No   \n",
            "2                No             DSL            Yes          Yes   \n",
            "3  No phone service             DSL            Yes           No   \n",
            "4                No     Fiber optic             No           No   \n",
            "\n",
            "  DeviceProtection TechSupport StreamingTV StreamingMovies        Contract  \\\n",
            "0               No          No          No              No  Month-to-month   \n",
            "1              Yes          No          No              No        One year   \n",
            "2               No          No          No              No  Month-to-month   \n",
            "3              Yes         Yes          No              No        One year   \n",
            "4               No          No          No              No  Month-to-month   \n",
            "\n",
            "  PaperlessBilling              PaymentMethod  MonthlyCharges TotalCharges  \\\n",
            "0              Yes           Electronic check           29.85        29.85   \n",
            "1               No               Mailed check           56.95       1889.5   \n",
            "2              Yes               Mailed check           53.85       108.15   \n",
            "3               No  Bank transfer (automatic)           42.30      1840.75   \n",
            "4              Yes           Electronic check           70.70       151.65   \n",
            "\n",
            "  Churn  \n",
            "0    No  \n",
            "1    No  \n",
            "2   Yes  \n",
            "3    No  \n",
            "4   Yes  \n",
            "(7043, 21)\n",
            "<class 'pandas.core.frame.DataFrame'>\n",
            "RangeIndex: 7043 entries, 0 to 7042\n",
            "Data columns (total 21 columns):\n",
            " #   Column            Non-Null Count  Dtype  \n",
            "---  ------            --------------  -----  \n",
            " 0   customerID        7043 non-null   object \n",
            " 1   gender            7043 non-null   object \n",
            " 2   SeniorCitizen     7043 non-null   int64  \n",
            " 3   Partner           7043 non-null   object \n",
            " 4   Dependents        7043 non-null   object \n",
            " 5   tenure            7043 non-null   int64  \n",
            " 6   PhoneService      7043 non-null   object \n",
            " 7   MultipleLines     7043 non-null   object \n",
            " 8   InternetService   7043 non-null   object \n",
            " 9   OnlineSecurity    7043 non-null   object \n",
            " 10  OnlineBackup      7043 non-null   object \n",
            " 11  DeviceProtection  7043 non-null   object \n",
            " 12  TechSupport       7043 non-null   object \n",
            " 13  StreamingTV       7043 non-null   object \n",
            " 14  StreamingMovies   7043 non-null   object \n",
            " 15  Contract          7043 non-null   object \n",
            " 16  PaperlessBilling  7043 non-null   object \n",
            " 17  PaymentMethod     7043 non-null   object \n",
            " 18  MonthlyCharges    7043 non-null   float64\n",
            " 19  TotalCharges      7043 non-null   object \n",
            " 20  Churn             7043 non-null   object \n",
            "dtypes: float64(1), int64(2), object(18)\n",
            "memory usage: 1.1+ MB\n",
            "None\n",
            "       SeniorCitizen       tenure  MonthlyCharges\n",
            "count    7043.000000  7043.000000     7043.000000\n",
            "mean        0.162147    32.371149       64.761692\n",
            "std         0.368612    24.559481       30.090047\n",
            "min         0.000000     0.000000       18.250000\n",
            "25%         0.000000     9.000000       35.500000\n",
            "50%         0.000000    29.000000       70.350000\n",
            "75%         0.000000    55.000000       89.850000\n",
            "max         1.000000    72.000000      118.750000\n"
          ],
          "name": "stdout"
        }
      ]
    },
    {
      "cell_type": "markdown",
      "metadata": {
        "id": "4ebpAax2JShS"
      },
      "source": [
        "Checking for Null values"
      ]
    },
    {
      "cell_type": "code",
      "metadata": {
        "colab": {
          "base_uri": "https://localhost:8080/"
        },
        "id": "qRVY-sJE1svy",
        "outputId": "924a5606-492e-4178-92eb-58e0f1852be2"
      },
      "source": [
        "dataset.isnull().sum()"
      ],
      "execution_count": null,
      "outputs": [
        {
          "output_type": "execute_result",
          "data": {
            "text/plain": [
              "customerID          0\n",
              "gender              0\n",
              "SeniorCitizen       0\n",
              "Partner             0\n",
              "Dependents          0\n",
              "tenure              0\n",
              "PhoneService        0\n",
              "MultipleLines       0\n",
              "InternetService     0\n",
              "OnlineSecurity      0\n",
              "OnlineBackup        0\n",
              "DeviceProtection    0\n",
              "TechSupport         0\n",
              "StreamingTV         0\n",
              "StreamingMovies     0\n",
              "Contract            0\n",
              "PaperlessBilling    0\n",
              "PaymentMethod       0\n",
              "MonthlyCharges      0\n",
              "TotalCharges        0\n",
              "Churn               0\n",
              "dtype: int64"
            ]
          },
          "metadata": {
            "tags": []
          },
          "execution_count": 3
        }
      ]
    },
    {
      "cell_type": "markdown",
      "metadata": {
        "id": "qnUv66dcJd4y"
      },
      "source": [
        "Printing all the column names"
      ]
    },
    {
      "cell_type": "code",
      "metadata": {
        "id": "e_YKORab1svy",
        "colab": {
          "base_uri": "https://localhost:8080/"
        },
        "outputId": "f6a63504-1e3b-4714-b4d8-0a9b4511977d"
      },
      "source": [
        "dataset.columns"
      ],
      "execution_count": null,
      "outputs": [
        {
          "output_type": "execute_result",
          "data": {
            "text/plain": [
              "Index(['customerID', 'gender', 'SeniorCitizen', 'Partner', 'Dependents',\n",
              "       'tenure', 'PhoneService', 'MultipleLines', 'InternetService',\n",
              "       'OnlineSecurity', 'OnlineBackup', 'DeviceProtection', 'TechSupport',\n",
              "       'StreamingTV', 'StreamingMovies', 'Contract', 'PaperlessBilling',\n",
              "       'PaymentMethod', 'MonthlyCharges', 'TotalCharges', 'Churn'],\n",
              "      dtype='object')"
            ]
          },
          "metadata": {
            "tags": []
          },
          "execution_count": 4
        }
      ]
    },
    {
      "cell_type": "markdown",
      "metadata": {
        "id": "lwywCmNeJmlZ"
      },
      "source": [
        "Dropping Customer Id(identity) feature as it is not useful"
      ]
    },
    {
      "cell_type": "code",
      "metadata": {
        "colab": {
          "base_uri": "https://localhost:8080/",
          "height": 284
        },
        "id": "lJBHk_2I1svz",
        "outputId": "5d146b40-f828-41a9-9a69-08cc9b6c97fa"
      },
      "source": [
        "dataset = dataset.drop('customerID', axis=1)\n",
        "dataset.head()"
      ],
      "execution_count": null,
      "outputs": [
        {
          "output_type": "execute_result",
          "data": {
            "text/html": [
              "<div>\n",
              "<style scoped>\n",
              "    .dataframe tbody tr th:only-of-type {\n",
              "        vertical-align: middle;\n",
              "    }\n",
              "\n",
              "    .dataframe tbody tr th {\n",
              "        vertical-align: top;\n",
              "    }\n",
              "\n",
              "    .dataframe thead th {\n",
              "        text-align: right;\n",
              "    }\n",
              "</style>\n",
              "<table border=\"1\" class=\"dataframe\">\n",
              "  <thead>\n",
              "    <tr style=\"text-align: right;\">\n",
              "      <th></th>\n",
              "      <th>gender</th>\n",
              "      <th>SeniorCitizen</th>\n",
              "      <th>Partner</th>\n",
              "      <th>Dependents</th>\n",
              "      <th>tenure</th>\n",
              "      <th>PhoneService</th>\n",
              "      <th>MultipleLines</th>\n",
              "      <th>InternetService</th>\n",
              "      <th>OnlineSecurity</th>\n",
              "      <th>OnlineBackup</th>\n",
              "      <th>DeviceProtection</th>\n",
              "      <th>TechSupport</th>\n",
              "      <th>StreamingTV</th>\n",
              "      <th>StreamingMovies</th>\n",
              "      <th>Contract</th>\n",
              "      <th>PaperlessBilling</th>\n",
              "      <th>PaymentMethod</th>\n",
              "      <th>MonthlyCharges</th>\n",
              "      <th>TotalCharges</th>\n",
              "      <th>Churn</th>\n",
              "    </tr>\n",
              "  </thead>\n",
              "  <tbody>\n",
              "    <tr>\n",
              "      <th>0</th>\n",
              "      <td>Female</td>\n",
              "      <td>0</td>\n",
              "      <td>Yes</td>\n",
              "      <td>No</td>\n",
              "      <td>1</td>\n",
              "      <td>No</td>\n",
              "      <td>No phone service</td>\n",
              "      <td>DSL</td>\n",
              "      <td>No</td>\n",
              "      <td>Yes</td>\n",
              "      <td>No</td>\n",
              "      <td>No</td>\n",
              "      <td>No</td>\n",
              "      <td>No</td>\n",
              "      <td>Month-to-month</td>\n",
              "      <td>Yes</td>\n",
              "      <td>Electronic check</td>\n",
              "      <td>29.85</td>\n",
              "      <td>29.85</td>\n",
              "      <td>No</td>\n",
              "    </tr>\n",
              "    <tr>\n",
              "      <th>1</th>\n",
              "      <td>Male</td>\n",
              "      <td>0</td>\n",
              "      <td>No</td>\n",
              "      <td>No</td>\n",
              "      <td>34</td>\n",
              "      <td>Yes</td>\n",
              "      <td>No</td>\n",
              "      <td>DSL</td>\n",
              "      <td>Yes</td>\n",
              "      <td>No</td>\n",
              "      <td>Yes</td>\n",
              "      <td>No</td>\n",
              "      <td>No</td>\n",
              "      <td>No</td>\n",
              "      <td>One year</td>\n",
              "      <td>No</td>\n",
              "      <td>Mailed check</td>\n",
              "      <td>56.95</td>\n",
              "      <td>1889.5</td>\n",
              "      <td>No</td>\n",
              "    </tr>\n",
              "    <tr>\n",
              "      <th>2</th>\n",
              "      <td>Male</td>\n",
              "      <td>0</td>\n",
              "      <td>No</td>\n",
              "      <td>No</td>\n",
              "      <td>2</td>\n",
              "      <td>Yes</td>\n",
              "      <td>No</td>\n",
              "      <td>DSL</td>\n",
              "      <td>Yes</td>\n",
              "      <td>Yes</td>\n",
              "      <td>No</td>\n",
              "      <td>No</td>\n",
              "      <td>No</td>\n",
              "      <td>No</td>\n",
              "      <td>Month-to-month</td>\n",
              "      <td>Yes</td>\n",
              "      <td>Mailed check</td>\n",
              "      <td>53.85</td>\n",
              "      <td>108.15</td>\n",
              "      <td>Yes</td>\n",
              "    </tr>\n",
              "    <tr>\n",
              "      <th>3</th>\n",
              "      <td>Male</td>\n",
              "      <td>0</td>\n",
              "      <td>No</td>\n",
              "      <td>No</td>\n",
              "      <td>45</td>\n",
              "      <td>No</td>\n",
              "      <td>No phone service</td>\n",
              "      <td>DSL</td>\n",
              "      <td>Yes</td>\n",
              "      <td>No</td>\n",
              "      <td>Yes</td>\n",
              "      <td>Yes</td>\n",
              "      <td>No</td>\n",
              "      <td>No</td>\n",
              "      <td>One year</td>\n",
              "      <td>No</td>\n",
              "      <td>Bank transfer (automatic)</td>\n",
              "      <td>42.30</td>\n",
              "      <td>1840.75</td>\n",
              "      <td>No</td>\n",
              "    </tr>\n",
              "    <tr>\n",
              "      <th>4</th>\n",
              "      <td>Female</td>\n",
              "      <td>0</td>\n",
              "      <td>No</td>\n",
              "      <td>No</td>\n",
              "      <td>2</td>\n",
              "      <td>Yes</td>\n",
              "      <td>No</td>\n",
              "      <td>Fiber optic</td>\n",
              "      <td>No</td>\n",
              "      <td>No</td>\n",
              "      <td>No</td>\n",
              "      <td>No</td>\n",
              "      <td>No</td>\n",
              "      <td>No</td>\n",
              "      <td>Month-to-month</td>\n",
              "      <td>Yes</td>\n",
              "      <td>Electronic check</td>\n",
              "      <td>70.70</td>\n",
              "      <td>151.65</td>\n",
              "      <td>Yes</td>\n",
              "    </tr>\n",
              "  </tbody>\n",
              "</table>\n",
              "</div>"
            ],
            "text/plain": [
              "   gender  SeniorCitizen Partner Dependents  tenure PhoneService  \\\n",
              "0  Female              0     Yes         No       1           No   \n",
              "1    Male              0      No         No      34          Yes   \n",
              "2    Male              0      No         No       2          Yes   \n",
              "3    Male              0      No         No      45           No   \n",
              "4  Female              0      No         No       2          Yes   \n",
              "\n",
              "      MultipleLines InternetService OnlineSecurity OnlineBackup  \\\n",
              "0  No phone service             DSL             No          Yes   \n",
              "1                No             DSL            Yes           No   \n",
              "2                No             DSL            Yes          Yes   \n",
              "3  No phone service             DSL            Yes           No   \n",
              "4                No     Fiber optic             No           No   \n",
              "\n",
              "  DeviceProtection TechSupport StreamingTV StreamingMovies        Contract  \\\n",
              "0               No          No          No              No  Month-to-month   \n",
              "1              Yes          No          No              No        One year   \n",
              "2               No          No          No              No  Month-to-month   \n",
              "3              Yes         Yes          No              No        One year   \n",
              "4               No          No          No              No  Month-to-month   \n",
              "\n",
              "  PaperlessBilling              PaymentMethod  MonthlyCharges TotalCharges  \\\n",
              "0              Yes           Electronic check           29.85        29.85   \n",
              "1               No               Mailed check           56.95       1889.5   \n",
              "2              Yes               Mailed check           53.85       108.15   \n",
              "3               No  Bank transfer (automatic)           42.30      1840.75   \n",
              "4              Yes           Electronic check           70.70       151.65   \n",
              "\n",
              "  Churn  \n",
              "0    No  \n",
              "1    No  \n",
              "2   Yes  \n",
              "3    No  \n",
              "4   Yes  "
            ]
          },
          "metadata": {
            "tags": []
          },
          "execution_count": 5
        }
      ]
    },
    {
      "cell_type": "markdown",
      "metadata": {
        "id": "5hGVJpyUJw4D"
      },
      "source": [
        "Data Exploration - Checking churn,Senior citizen ,Internet Service, Phone service features"
      ]
    },
    {
      "cell_type": "code",
      "metadata": {
        "id": "GlR5ZU3S1sv0",
        "colab": {
          "base_uri": "https://localhost:8080/"
        },
        "outputId": "cadda534-ea6b-4bf2-81e6-b61dc825906e"
      },
      "source": [
        "dataset.loc[:, 'Churn'].value_counts()"
      ],
      "execution_count": null,
      "outputs": [
        {
          "output_type": "execute_result",
          "data": {
            "text/plain": [
              "No     5174\n",
              "Yes    1869\n",
              "Name: Churn, dtype: int64"
            ]
          },
          "metadata": {
            "tags": []
          },
          "execution_count": 6
        }
      ]
    },
    {
      "cell_type": "code",
      "metadata": {
        "colab": {
          "base_uri": "https://localhost:8080/"
        },
        "id": "bv3lWqcNxN9-",
        "outputId": "3db948ca-83b4-4c42-e42b-ff30e2544c68"
      },
      "source": [
        "dataset.loc[:, 'SeniorCitizen'].value_counts()"
      ],
      "execution_count": null,
      "outputs": [
        {
          "output_type": "execute_result",
          "data": {
            "text/plain": [
              "0    5901\n",
              "1    1142\n",
              "Name: SeniorCitizen, dtype: int64"
            ]
          },
          "metadata": {
            "tags": []
          },
          "execution_count": 7
        }
      ]
    },
    {
      "cell_type": "code",
      "metadata": {
        "colab": {
          "base_uri": "https://localhost:8080/"
        },
        "id": "MWcI_IJOxOkT",
        "outputId": "5ae8605e-c11c-4156-c5e7-0243208303fd"
      },
      "source": [
        "dataset.loc[:, 'InternetService'].value_counts()"
      ],
      "execution_count": null,
      "outputs": [
        {
          "output_type": "execute_result",
          "data": {
            "text/plain": [
              "Fiber optic    3096\n",
              "DSL            2421\n",
              "No             1526\n",
              "Name: InternetService, dtype: int64"
            ]
          },
          "metadata": {
            "tags": []
          },
          "execution_count": 8
        }
      ]
    },
    {
      "cell_type": "code",
      "metadata": {
        "colab": {
          "base_uri": "https://localhost:8080/"
        },
        "id": "vFDnb7uxxUYK",
        "outputId": "8c0fb027-a0aa-4022-bc31-cda74458e3ff"
      },
      "source": [
        "dataset.loc[:, 'PhoneService'].value_counts()"
      ],
      "execution_count": null,
      "outputs": [
        {
          "output_type": "execute_result",
          "data": {
            "text/plain": [
              "Yes    6361\n",
              "No      682\n",
              "Name: PhoneService, dtype: int64"
            ]
          },
          "metadata": {
            "tags": []
          },
          "execution_count": 9
        }
      ]
    },
    {
      "cell_type": "markdown",
      "metadata": {
        "id": "fl9yB7rvJ935"
      },
      "source": [
        "Plotting correalation heatmap of numeric features"
      ]
    },
    {
      "cell_type": "code",
      "metadata": {
        "colab": {
          "base_uri": "https://localhost:8080/",
          "height": 311
        },
        "id": "LIVdvvmLyEKe",
        "outputId": "54131042-953b-4f17-8530-e82c8f861f47"
      },
      "source": [
        "plt.figure()\r\n",
        "Corr=dataset[dataset.columns].corr()\r\n",
        "sns.heatmap(Corr,annot=True)"
      ],
      "execution_count": null,
      "outputs": [
        {
          "output_type": "execute_result",
          "data": {
            "text/plain": [
              "<matplotlib.axes._subplots.AxesSubplot at 0x7f1459139438>"
            ]
          },
          "metadata": {
            "tags": []
          },
          "execution_count": 10
        },
        {
          "output_type": "display_data",
          "data": {
            "image/png": "[encoded data removed]",
            "text/plain": [
              "<Figure size 432x288 with 2 Axes>"
            ]
          },
          "metadata": {
            "tags": [],
            "needs_background": "light"
          }
        }
      ]
    },
    {
      "cell_type": "markdown",
      "metadata": {
        "id": "OXJOJHMXKIaY"
      },
      "source": [
        "converting the non-numeric data into numeric data"
      ]
    },
    {
      "cell_type": "code",
      "metadata": {
        "colab": {
          "base_uri": "https://localhost:8080/",
          "height": 217
        },
        "id": "mWWf9w3hyP1Q",
        "outputId": "e6871f0e-2359-45d4-e4ff-aeec632dc4c3"
      },
      "source": [
        "# converting the non-numeric data into numeric data.\r\n",
        "from sklearn.preprocessing import LabelEncoder\r\n",
        "dataset1 = dataset.apply(lambda x: LabelEncoder().fit_transform(x) if x.dtype == 'object' else x)\r\n",
        "dataset1.head()"
      ],
      "execution_count": null,
      "outputs": [
        {
          "output_type": "execute_result",
          "data": {
            "text/html": [
              "<div>\n",
              "<style scoped>\n",
              "    .dataframe tbody tr th:only-of-type {\n",
              "        vertical-align: middle;\n",
              "    }\n",
              "\n",
              "    .dataframe tbody tr th {\n",
              "        vertical-align: top;\n",
              "    }\n",
              "\n",
              "    .dataframe thead th {\n",
              "        text-align: right;\n",
              "    }\n",
              "</style>\n",
              "<table border=\"1\" class=\"dataframe\">\n",
              "  <thead>\n",
              "    <tr style=\"text-align: right;\">\n",
              "      <th></th>\n",
              "      <th>gender</th>\n",
              "      <th>SeniorCitizen</th>\n",
              "      <th>Partner</th>\n",
              "      <th>Dependents</th>\n",
              "      <th>tenure</th>\n",
              "      <th>PhoneService</th>\n",
              "      <th>MultipleLines</th>\n",
              "      <th>InternetService</th>\n",
              "      <th>OnlineSecurity</th>\n",
              "      <th>OnlineBackup</th>\n",
              "      <th>DeviceProtection</th>\n",
              "      <th>TechSupport</th>\n",
              "      <th>StreamingTV</th>\n",
              "      <th>StreamingMovies</th>\n",
              "      <th>Contract</th>\n",
              "      <th>PaperlessBilling</th>\n",
              "      <th>PaymentMethod</th>\n",
              "      <th>MonthlyCharges</th>\n",
              "      <th>TotalCharges</th>\n",
              "      <th>Churn</th>\n",
              "    </tr>\n",
              "  </thead>\n",
              "  <tbody>\n",
              "    <tr>\n",
              "      <th>0</th>\n",
              "      <td>0</td>\n",
              "      <td>0</td>\n",
              "      <td>1</td>\n",
              "      <td>0</td>\n",
              "      <td>1</td>\n",
              "      <td>0</td>\n",
              "      <td>1</td>\n",
              "      <td>0</td>\n",
              "      <td>0</td>\n",
              "      <td>2</td>\n",
              "      <td>0</td>\n",
              "      <td>0</td>\n",
              "      <td>0</td>\n",
              "      <td>0</td>\n",
              "      <td>0</td>\n",
              "      <td>1</td>\n",
              "      <td>2</td>\n",
              "      <td>29.85</td>\n",
              "      <td>2505</td>\n",
              "      <td>0</td>\n",
              "    </tr>\n",
              "    <tr>\n",
              "      <th>1</th>\n",
              "      <td>1</td>\n",
              "      <td>0</td>\n",
              "      <td>0</td>\n",
              "      <td>0</td>\n",
              "      <td>34</td>\n",
              "      <td>1</td>\n",
              "      <td>0</td>\n",
              "      <td>0</td>\n",
              "      <td>2</td>\n",
              "      <td>0</td>\n",
              "      <td>2</td>\n",
              "      <td>0</td>\n",
              "      <td>0</td>\n",
              "      <td>0</td>\n",
              "      <td>1</td>\n",
              "      <td>0</td>\n",
              "      <td>3</td>\n",
              "      <td>56.95</td>\n",
              "      <td>1466</td>\n",
              "      <td>0</td>\n",
              "    </tr>\n",
              "    <tr>\n",
              "      <th>2</th>\n",
              "      <td>1</td>\n",
              "      <td>0</td>\n",
              "      <td>0</td>\n",
              "      <td>0</td>\n",
              "      <td>2</td>\n",
              "      <td>1</td>\n",
              "      <td>0</td>\n",
              "      <td>0</td>\n",
              "      <td>2</td>\n",
              "      <td>2</td>\n",
              "      <td>0</td>\n",
              "      <td>0</td>\n",
              "      <td>0</td>\n",
              "      <td>0</td>\n",
              "      <td>0</td>\n",
              "      <td>1</td>\n",
              "      <td>3</td>\n",
              "      <td>53.85</td>\n",
              "      <td>157</td>\n",
              "      <td>1</td>\n",
              "    </tr>\n",
              "    <tr>\n",
              "      <th>3</th>\n",
              "      <td>1</td>\n",
              "      <td>0</td>\n",
              "      <td>0</td>\n",
              "      <td>0</td>\n",
              "      <td>45</td>\n",
              "      <td>0</td>\n",
              "      <td>1</td>\n",
              "      <td>0</td>\n",
              "      <td>2</td>\n",
              "      <td>0</td>\n",
              "      <td>2</td>\n",
              "      <td>2</td>\n",
              "      <td>0</td>\n",
              "      <td>0</td>\n",
              "      <td>1</td>\n",
              "      <td>0</td>\n",
              "      <td>0</td>\n",
              "      <td>42.30</td>\n",
              "      <td>1400</td>\n",
              "      <td>0</td>\n",
              "    </tr>\n",
              "    <tr>\n",
              "      <th>4</th>\n",
              "      <td>0</td>\n",
              "      <td>0</td>\n",
              "      <td>0</td>\n",
              "      <td>0</td>\n",
              "      <td>2</td>\n",
              "      <td>1</td>\n",
              "      <td>0</td>\n",
              "      <td>1</td>\n",
              "      <td>0</td>\n",
              "      <td>0</td>\n",
              "      <td>0</td>\n",
              "      <td>0</td>\n",
              "      <td>0</td>\n",
              "      <td>0</td>\n",
              "      <td>0</td>\n",
              "      <td>1</td>\n",
              "      <td>2</td>\n",
              "      <td>70.70</td>\n",
              "      <td>925</td>\n",
              "      <td>1</td>\n",
              "    </tr>\n",
              "  </tbody>\n",
              "</table>\n",
              "</div>"
            ],
            "text/plain": [
              "   gender  SeniorCitizen  Partner  Dependents  tenure  PhoneService  \\\n",
              "0       0              0        1           0       1             0   \n",
              "1       1              0        0           0      34             1   \n",
              "2       1              0        0           0       2             1   \n",
              "3       1              0        0           0      45             0   \n",
              "4       0              0        0           0       2             1   \n",
              "\n",
              "   MultipleLines  InternetService  OnlineSecurity  OnlineBackup  \\\n",
              "0              1                0               0             2   \n",
              "1              0                0               2             0   \n",
              "2              0                0               2             2   \n",
              "3              1                0               2             0   \n",
              "4              0                1               0             0   \n",
              "\n",
              "   DeviceProtection  TechSupport  StreamingTV  StreamingMovies  Contract  \\\n",
              "0                 0            0            0                0         0   \n",
              "1                 2            0            0                0         1   \n",
              "2                 0            0            0                0         0   \n",
              "3                 2            2            0                0         1   \n",
              "4                 0            0            0                0         0   \n",
              "\n",
              "   PaperlessBilling  PaymentMethod  MonthlyCharges  TotalCharges  Churn  \n",
              "0                 1              2           29.85          2505      0  \n",
              "1                 0              3           56.95          1466      0  \n",
              "2                 1              3           53.85           157      1  \n",
              "3                 0              0           42.30          1400      0  \n",
              "4                 1              2           70.70           925      1  "
            ]
          },
          "metadata": {
            "tags": []
          },
          "execution_count": 16
        }
      ]
    },
    {
      "cell_type": "markdown",
      "metadata": {
        "id": "bBMErPalKRZr"
      },
      "source": [
        "Plotting heat map for all the feature to check Correlation"
      ]
    },
    {
      "cell_type": "code",
      "metadata": {
        "colab": {
          "base_uri": "https://localhost:8080/",
          "height": 1000
        },
        "id": "FAy9bDChye2x",
        "outputId": "19a424e1-d751-4abe-db19-93b0cb18d652"
      },
      "source": [
        "plt.figure(figsize =(20,20))\r\n",
        "Corr=dataset1[dataset1.columns].corr()\r\n",
        "sns.heatmap(Corr,annot=True)"
      ],
      "execution_count": null,
      "outputs": [
        {
          "output_type": "execute_result",
          "data": {
            "text/plain": [
              "<matplotlib.axes._subplots.AxesSubplot at 0x7f144e238fd0>"
            ]
          },
          "metadata": {
            "tags": []
          },
          "execution_count": 17
        },
        {
          "output_type": "display_data",
          "data": {
            "image/png": "[encoded data removed]",
            "text/plain": [
              "<Figure size 1440x1440 with 2 Axes>"
            ]
          },
          "metadata": {
            "tags": [],
            "needs_background": "light"
          }
        }
      ]
    },
    {
      "cell_type": "code",
      "metadata": {
        "colab": {
          "base_uri": "https://localhost:8080/",
          "height": 307
        },
        "id": "nHqXtJrf1GIM",
        "outputId": "df4b59e8-9fa2-4275-e4ca-a15ec727845e"
      },
      "source": [
        "dataset1.describe()"
      ],
      "execution_count": null,
      "outputs": [
        {
          "output_type": "execute_result",
          "data": {
            "text/html": [
              "<div>\n",
              "<style scoped>\n",
              "    .dataframe tbody tr th:only-of-type {\n",
              "        vertical-align: middle;\n",
              "    }\n",
              "\n",
              "    .dataframe tbody tr th {\n",
              "        vertical-align: top;\n",
              "    }\n",
              "\n",
              "    .dataframe thead th {\n",
              "        text-align: right;\n",
              "    }\n",
              "</style>\n",
              "<table border=\"1\" class=\"dataframe\">\n",
              "  <thead>\n",
              "    <tr style=\"text-align: right;\">\n",
              "      <th></th>\n",
              "      <th>gender</th>\n",
              "      <th>SeniorCitizen</th>\n",
              "      <th>Partner</th>\n",
              "      <th>Dependents</th>\n",
              "      <th>tenure</th>\n",
              "      <th>PhoneService</th>\n",
              "      <th>MultipleLines</th>\n",
              "      <th>InternetService</th>\n",
              "      <th>OnlineSecurity</th>\n",
              "      <th>OnlineBackup</th>\n",
              "      <th>DeviceProtection</th>\n",
              "      <th>TechSupport</th>\n",
              "      <th>StreamingTV</th>\n",
              "      <th>StreamingMovies</th>\n",
              "      <th>Contract</th>\n",
              "      <th>PaperlessBilling</th>\n",
              "      <th>PaymentMethod</th>\n",
              "      <th>MonthlyCharges</th>\n",
              "      <th>TotalCharges</th>\n",
              "      <th>Churn</th>\n",
              "    </tr>\n",
              "  </thead>\n",
              "  <tbody>\n",
              "    <tr>\n",
              "      <th>count</th>\n",
              "      <td>7043.000000</td>\n",
              "      <td>7043.000000</td>\n",
              "      <td>7043.000000</td>\n",
              "      <td>7043.000000</td>\n",
              "      <td>7043.000000</td>\n",
              "      <td>7043.000000</td>\n",
              "      <td>7043.000000</td>\n",
              "      <td>7043.000000</td>\n",
              "      <td>7043.000000</td>\n",
              "      <td>7043.000000</td>\n",
              "      <td>7043.000000</td>\n",
              "      <td>7043.000000</td>\n",
              "      <td>7043.000000</td>\n",
              "      <td>7043.000000</td>\n",
              "      <td>7043.000000</td>\n",
              "      <td>7043.000000</td>\n",
              "      <td>7043.000000</td>\n",
              "      <td>7043.000000</td>\n",
              "      <td>7043.000000</td>\n",
              "      <td>7043.000000</td>\n",
              "    </tr>\n",
              "    <tr>\n",
              "      <th>mean</th>\n",
              "      <td>0.504756</td>\n",
              "      <td>0.162147</td>\n",
              "      <td>0.483033</td>\n",
              "      <td>0.299588</td>\n",
              "      <td>32.371149</td>\n",
              "      <td>0.903166</td>\n",
              "      <td>0.940508</td>\n",
              "      <td>0.872923</td>\n",
              "      <td>0.790004</td>\n",
              "      <td>0.906432</td>\n",
              "      <td>0.904444</td>\n",
              "      <td>0.797104</td>\n",
              "      <td>0.985376</td>\n",
              "      <td>0.992475</td>\n",
              "      <td>0.690473</td>\n",
              "      <td>0.592219</td>\n",
              "      <td>1.574329</td>\n",
              "      <td>64.761692</td>\n",
              "      <td>3257.794122</td>\n",
              "      <td>0.265370</td>\n",
              "    </tr>\n",
              "    <tr>\n",
              "      <th>std</th>\n",
              "      <td>0.500013</td>\n",
              "      <td>0.368612</td>\n",
              "      <td>0.499748</td>\n",
              "      <td>0.458110</td>\n",
              "      <td>24.559481</td>\n",
              "      <td>0.295752</td>\n",
              "      <td>0.948554</td>\n",
              "      <td>0.737796</td>\n",
              "      <td>0.859848</td>\n",
              "      <td>0.880162</td>\n",
              "      <td>0.879949</td>\n",
              "      <td>0.861551</td>\n",
              "      <td>0.885002</td>\n",
              "      <td>0.885091</td>\n",
              "      <td>0.833755</td>\n",
              "      <td>0.491457</td>\n",
              "      <td>1.068104</td>\n",
              "      <td>30.090047</td>\n",
              "      <td>1888.693496</td>\n",
              "      <td>0.441561</td>\n",
              "    </tr>\n",
              "    <tr>\n",
              "      <th>min</th>\n",
              "      <td>0.000000</td>\n",
              "      <td>0.000000</td>\n",
              "      <td>0.000000</td>\n",
              "      <td>0.000000</td>\n",
              "      <td>0.000000</td>\n",
              "      <td>0.000000</td>\n",
              "      <td>0.000000</td>\n",
              "      <td>0.000000</td>\n",
              "      <td>0.000000</td>\n",
              "      <td>0.000000</td>\n",
              "      <td>0.000000</td>\n",
              "      <td>0.000000</td>\n",
              "      <td>0.000000</td>\n",
              "      <td>0.000000</td>\n",
              "      <td>0.000000</td>\n",
              "      <td>0.000000</td>\n",
              "      <td>0.000000</td>\n",
              "      <td>18.250000</td>\n",
              "      <td>0.000000</td>\n",
              "      <td>0.000000</td>\n",
              "    </tr>\n",
              "    <tr>\n",
              "      <th>25%</th>\n",
              "      <td>0.000000</td>\n",
              "      <td>0.000000</td>\n",
              "      <td>0.000000</td>\n",
              "      <td>0.000000</td>\n",
              "      <td>9.000000</td>\n",
              "      <td>1.000000</td>\n",
              "      <td>0.000000</td>\n",
              "      <td>0.000000</td>\n",
              "      <td>0.000000</td>\n",
              "      <td>0.000000</td>\n",
              "      <td>0.000000</td>\n",
              "      <td>0.000000</td>\n",
              "      <td>0.000000</td>\n",
              "      <td>0.000000</td>\n",
              "      <td>0.000000</td>\n",
              "      <td>0.000000</td>\n",
              "      <td>1.000000</td>\n",
              "      <td>35.500000</td>\n",
              "      <td>1609.000000</td>\n",
              "      <td>0.000000</td>\n",
              "    </tr>\n",
              "    <tr>\n",
              "      <th>50%</th>\n",
              "      <td>1.000000</td>\n",
              "      <td>0.000000</td>\n",
              "      <td>0.000000</td>\n",
              "      <td>0.000000</td>\n",
              "      <td>29.000000</td>\n",
              "      <td>1.000000</td>\n",
              "      <td>1.000000</td>\n",
              "      <td>1.000000</td>\n",
              "      <td>1.000000</td>\n",
              "      <td>1.000000</td>\n",
              "      <td>1.000000</td>\n",
              "      <td>1.000000</td>\n",
              "      <td>1.000000</td>\n",
              "      <td>1.000000</td>\n",
              "      <td>0.000000</td>\n",
              "      <td>1.000000</td>\n",
              "      <td>2.000000</td>\n",
              "      <td>70.350000</td>\n",
              "      <td>3249.000000</td>\n",
              "      <td>0.000000</td>\n",
              "    </tr>\n",
              "    <tr>\n",
              "      <th>75%</th>\n",
              "      <td>1.000000</td>\n",
              "      <td>0.000000</td>\n",
              "      <td>1.000000</td>\n",
              "      <td>1.000000</td>\n",
              "      <td>55.000000</td>\n",
              "      <td>1.000000</td>\n",
              "      <td>2.000000</td>\n",
              "      <td>1.000000</td>\n",
              "      <td>2.000000</td>\n",
              "      <td>2.000000</td>\n",
              "      <td>2.000000</td>\n",
              "      <td>2.000000</td>\n",
              "      <td>2.000000</td>\n",
              "      <td>2.000000</td>\n",
              "      <td>1.000000</td>\n",
              "      <td>1.000000</td>\n",
              "      <td>2.000000</td>\n",
              "      <td>89.850000</td>\n",
              "      <td>4901.500000</td>\n",
              "      <td>1.000000</td>\n",
              "    </tr>\n",
              "    <tr>\n",
              "      <th>max</th>\n",
              "      <td>1.000000</td>\n",
              "      <td>1.000000</td>\n",
              "      <td>1.000000</td>\n",
              "      <td>1.000000</td>\n",
              "      <td>72.000000</td>\n",
              "      <td>1.000000</td>\n",
              "      <td>2.000000</td>\n",
              "      <td>2.000000</td>\n",
              "      <td>2.000000</td>\n",
              "      <td>2.000000</td>\n",
              "      <td>2.000000</td>\n",
              "      <td>2.000000</td>\n",
              "      <td>2.000000</td>\n",
              "      <td>2.000000</td>\n",
              "      <td>2.000000</td>\n",
              "      <td>1.000000</td>\n",
              "      <td>3.000000</td>\n",
              "      <td>118.750000</td>\n",
              "      <td>6530.000000</td>\n",
              "      <td>1.000000</td>\n",
              "    </tr>\n",
              "  </tbody>\n",
              "</table>\n",
              "</div>"
            ],
            "text/plain": [
              "            gender  SeniorCitizen      Partner   Dependents       tenure  \\\n",
              "count  7043.000000    7043.000000  7043.000000  7043.000000  7043.000000   \n",
              "mean      0.504756       0.162147     0.483033     0.299588    32.371149   \n",
              "std       0.500013       0.368612     0.499748     0.458110    24.559481   \n",
              "min       0.000000       0.000000     0.000000     0.000000     0.000000   \n",
              "25%       0.000000       0.000000     0.000000     0.000000     9.000000   \n",
              "50%       1.000000       0.000000     0.000000     0.000000    29.000000   \n",
              "75%       1.000000       0.000000     1.000000     1.000000    55.000000   \n",
              "max       1.000000       1.000000     1.000000     1.000000    72.000000   \n",
              "\n",
              "       PhoneService  MultipleLines  InternetService  OnlineSecurity  \\\n",
              "count   7043.000000    7043.000000      7043.000000     7043.000000   \n",
              "mean       0.903166       0.940508         0.872923        0.790004   \n",
              "std        0.295752       0.948554         0.737796        0.859848   \n",
              "min        0.000000       0.000000         0.000000        0.000000   \n",
              "25%        1.000000       0.000000         0.000000        0.000000   \n",
              "50%        1.000000       1.000000         1.000000        1.000000   \n",
              "75%        1.000000       2.000000         1.000000        2.000000   \n",
              "max        1.000000       2.000000         2.000000        2.000000   \n",
              "\n",
              "       OnlineBackup  DeviceProtection  TechSupport  StreamingTV  \\\n",
              "count   7043.000000       7043.000000  7043.000000  7043.000000   \n",
              "mean       0.906432          0.904444     0.797104     0.985376   \n",
              "std        0.880162          0.879949     0.861551     0.885002   \n",
              "min        0.000000          0.000000     0.000000     0.000000   \n",
              "25%        0.000000          0.000000     0.000000     0.000000   \n",
              "50%        1.000000          1.000000     1.000000     1.000000   \n",
              "75%        2.000000          2.000000     2.000000     2.000000   \n",
              "max        2.000000          2.000000     2.000000     2.000000   \n",
              "\n",
              "       StreamingMovies     Contract  PaperlessBilling  PaymentMethod  \\\n",
              "count      7043.000000  7043.000000       7043.000000    7043.000000   \n",
              "mean          0.992475     0.690473          0.592219       1.574329   \n",
              "std           0.885091     0.833755          0.491457       1.068104   \n",
              "min           0.000000     0.000000          0.000000       0.000000   \n",
              "25%           0.000000     0.000000          0.000000       1.000000   \n",
              "50%           1.000000     0.000000          1.000000       2.000000   \n",
              "75%           2.000000     1.000000          1.000000       2.000000   \n",
              "max           2.000000     2.000000          1.000000       3.000000   \n",
              "\n",
              "       MonthlyCharges  TotalCharges        Churn  \n",
              "count     7043.000000   7043.000000  7043.000000  \n",
              "mean        64.761692   3257.794122     0.265370  \n",
              "std         30.090047   1888.693496     0.441561  \n",
              "min         18.250000      0.000000     0.000000  \n",
              "25%         35.500000   1609.000000     0.000000  \n",
              "50%         70.350000   3249.000000     0.000000  \n",
              "75%         89.850000   4901.500000     1.000000  \n",
              "max        118.750000   6530.000000     1.000000  "
            ]
          },
          "metadata": {
            "tags": []
          },
          "execution_count": 18
        }
      ]
    },
    {
      "cell_type": "markdown",
      "metadata": {
        "id": "Ug0BjFEEKmTq"
      },
      "source": [
        "Dropping the features with low feature importance obtained from Random Forest feature importance list from previous run(Before feature selection)"
      ]
    },
    {
      "cell_type": "code",
      "metadata": {
        "id": "5iJyj3-x1sv4"
      },
      "source": [
        "dataset1 = dataset1.drop('StreamingMovies', axis=1)\n",
        "dataset1 = dataset1.drop('PhoneService', axis=1)"
      ],
      "execution_count": null,
      "outputs": []
    },
    {
      "cell_type": "code",
      "metadata": {
        "id": "w_nTM_a3BT-l"
      },
      "source": [
        "dataset1 = dataset1.drop('DeviceProtection', axis=1)\r\n",
        "dataset1 = dataset1.drop('Dependents', axis=1)\r\n",
        "dataset1 = dataset1.drop('SeniorCitizen', axis=1)"
      ],
      "execution_count": null,
      "outputs": []
    },
    {
      "cell_type": "code",
      "metadata": {
        "id": "U2PUZN0bDoD0"
      },
      "source": [
        "dataset1 = dataset1.drop('Partner', axis=1)\r\n",
        "dataset1 = dataset1.drop('StreamingTV', axis=1)"
      ],
      "execution_count": null,
      "outputs": []
    },
    {
      "cell_type": "markdown",
      "metadata": {
        "id": "JXjxQM8kLJ83"
      },
      "source": [
        "Deviding the dataset into feature and taget label"
      ]
    },
    {
      "cell_type": "code",
      "metadata": {
        "colab": {
          "base_uri": "https://localhost:8080/"
        },
        "id": "z1SAqg1K1sv4",
        "outputId": "95ae5395-54ad-4c80-8444-60ba87a8519b"
      },
      "source": [
        "# Dividing dataset into label and feature sets\n",
        "X = dataset1.drop(['Churn'], axis = 1) # Features\n",
        "Y = dataset1['Churn'] # Labels\n",
        "print(type(X))\n",
        "print(type(Y))\n",
        "print(X.shape)\n",
        "print(Y.shape)"
      ],
      "execution_count": null,
      "outputs": [
        {
          "output_type": "stream",
          "text": [
            "<class 'pandas.core.frame.DataFrame'>\n",
            "<class 'pandas.core.series.Series'>\n",
            "(7043, 12)\n",
            "(7043,)\n"
          ],
          "name": "stdout"
        }
      ]
    },
    {
      "cell_type": "markdown",
      "metadata": {
        "id": "THphXe8lLbFa"
      },
      "source": [
        "Normalizing numerical features"
      ]
    },
    {
      "cell_type": "code",
      "metadata": {
        "id": "0xruuW4u1sv5"
      },
      "source": [
        "# Normalizing numerical features so that each feature has mean 0 and variance 1\n",
        "feature_scaler = StandardScaler()\n",
        "X_scaled = feature_scaler.fit_transform(X)"
      ],
      "execution_count": null,
      "outputs": []
    },
    {
      "cell_type": "markdown",
      "metadata": {
        "id": "FFgEIw0yLq-s"
      },
      "source": [
        "Dividing the datset into Train and Test sets"
      ]
    },
    {
      "cell_type": "code",
      "metadata": {
        "id": "IeqIeeOj1sv5"
      },
      "source": [
        "# Dividing dataset into training and test sets\n",
        "X_train, X_test, Y_train, Y_test = train_test_split( X_scaled, Y, test_size = 0.3, random_state = 100)"
      ],
      "execution_count": null,
      "outputs": []
    },
    {
      "cell_type": "markdown",
      "metadata": {
        "id": "roCpI0WeL0RU"
      },
      "source": [
        "Checking the shape to check number of columns and instances"
      ]
    },
    {
      "cell_type": "code",
      "metadata": {
        "colab": {
          "base_uri": "https://localhost:8080/"
        },
        "id": "4y_MKBDa1sv5",
        "outputId": "f4eba0d0-70d1-4e92-8897-1453710085a2"
      },
      "source": [
        "print(X_train.shape)\n",
        "print(X_test.shape)"
      ],
      "execution_count": null,
      "outputs": [
        {
          "output_type": "stream",
          "text": [
            "(4930, 12)\n",
            "(2113, 12)\n"
          ],
          "name": "stdout"
        }
      ]
    },
    {
      "cell_type": "markdown",
      "metadata": {
        "id": "qrS7d_KXMFln"
      },
      "source": [
        "Implementing SMOTE for oversampling"
      ]
    },
    {
      "cell_type": "code",
      "metadata": {
        "colab": {
          "base_uri": "https://localhost:8080/"
        },
        "id": "eIVARWUM1sv5",
        "outputId": "53c518f4-bafb-48fe-e37b-f7faa801e12f"
      },
      "source": [
        "# Implementing Oversampling to balance the dataset; SMOTE stands for Synthetic Minority Oversampling TEchnique\n",
        "print(\"Number of observations in each class before oversampling (training data): \\n\", pd.Series(Y_train).value_counts())\n",
        "smote = SMOTE(random_state = 101)\n",
        "X_train,Y_train = smote.fit_sample(X_train,Y_train)"
      ],
      "execution_count": null,
      "outputs": [
        {
          "output_type": "stream",
          "text": [
            "Number of observations in each class before oversampling (training data): \n",
            " 0    3627\n",
            "1    1303\n",
            "Name: Churn, dtype: int64\n"
          ],
          "name": "stdout"
        },
        {
          "output_type": "stream",
          "text": [
            "/usr/local/lib/python3.6/dist-packages/sklearn/utils/deprecation.py:87: FutureWarning:\n",
            "\n",
            "Function safe_indexing is deprecated; safe_indexing is deprecated in version 0.22 and will be removed in version 0.24.\n",
            "\n"
          ],
          "name": "stderr"
        }
      ]
    },
    {
      "cell_type": "code",
      "metadata": {
        "colab": {
          "base_uri": "https://localhost:8080/"
        },
        "id": "HRMCw5Q61sv6",
        "outputId": "b7d63f8e-2b19-49c6-dcd8-90da377384d6"
      },
      "source": [
        "print(\"Number of observations in each class after oversampling (training data): \\n\", pd.Series(Y_train).value_counts())"
      ],
      "execution_count": null,
      "outputs": [
        {
          "output_type": "stream",
          "text": [
            "Number of observations in each class after oversampling (training data): \n",
            " 1    3627\n",
            "0    3627\n",
            "dtype: int64\n"
          ],
          "name": "stdout"
        }
      ]
    },
    {
      "cell_type": "markdown",
      "metadata": {
        "id": "VhCtRvwmMiIf"
      },
      "source": [
        "Random Forest classifier implementation and its Grid search input values"
      ]
    },
    {
      "cell_type": "code",
      "metadata": {
        "id": "H4aH2bZk1sv6"
      },
      "source": [
        "rfc = RandomForestClassifier(criterion='entropy', max_features='auto', random_state=1)\n",
        "grid_param = {'n_estimators': [450,500, 550, 600, 650, 700, 750, 800,850,900]}\n",
        "\n",
        "gd_sr = GridSearchCV(estimator=rfc, param_grid=grid_param, scoring='recall', cv=5)"
      ],
      "execution_count": null,
      "outputs": []
    },
    {
      "cell_type": "markdown",
      "metadata": {
        "id": "d4cyuAw1M4lB"
      },
      "source": [
        "Fitting the model"
      ]
    },
    {
      "cell_type": "code",
      "metadata": {
        "colab": {
          "base_uri": "https://localhost:8080/"
        },
        "id": "bNgf-vqG1sv6",
        "outputId": "27a78fa0-200c-4108-ed0f-35abc5ded5e5"
      },
      "source": [
        "gd_sr.fit(X_train, Y_train)"
      ],
      "execution_count": null,
      "outputs": [
        {
          "output_type": "execute_result",
          "data": {
            "text/plain": [
              "GridSearchCV(cv=5, error_score=nan,\n",
              "             estimator=RandomForestClassifier(bootstrap=True, ccp_alpha=0.0,\n",
              "                                              class_weight=None,\n",
              "                                              criterion='entropy',\n",
              "                                              max_depth=None,\n",
              "                                              max_features='auto',\n",
              "                                              max_leaf_nodes=None,\n",
              "                                              max_samples=None,\n",
              "                                              min_impurity_decrease=0.0,\n",
              "                                              min_impurity_split=None,\n",
              "                                              min_samples_leaf=1,\n",
              "                                              min_samples_split=2,\n",
              "                                              min_weight_fraction_leaf=0.0,\n",
              "                                              n_estimators=100, n_jobs=None,\n",
              "                                              oob_score=False, random_state=1,\n",
              "                                              verbose=0, warm_start=False),\n",
              "             iid='deprecated', n_jobs=None,\n",
              "             param_grid={'n_estimators': [450, 500, 550, 600, 650, 700, 750,\n",
              "                                          800, 850, 900]},\n",
              "             pre_dispatch='2*n_jobs', refit=True, return_train_score=False,\n",
              "             scoring='recall', verbose=0)"
            ]
          },
          "metadata": {
            "tags": []
          },
          "execution_count": 88
        }
      ]
    },
    {
      "cell_type": "markdown",
      "metadata": {
        "id": "K6VBnDibNPWx"
      },
      "source": [
        "Printing Best Paramters"
      ]
    },
    {
      "cell_type": "code",
      "metadata": {
        "colab": {
          "base_uri": "https://localhost:8080/"
        },
        "id": "QOZ-H-Cm1sv7",
        "outputId": "dfe1ec76-b9b6-47ea-e397-86a6fee5cf6b"
      },
      "source": [
        "best_parameters = gd_sr.best_params_\n",
        "print(best_parameters)"
      ],
      "execution_count": null,
      "outputs": [
        {
          "output_type": "stream",
          "text": [
            "{'n_estimators': 700}\n"
          ],
          "name": "stdout"
        }
      ]
    },
    {
      "cell_type": "code",
      "metadata": {
        "colab": {
          "base_uri": "https://localhost:8080/"
        },
        "id": "uoXoNN4J1sv7",
        "outputId": "ce3e4f7b-f78f-40a8-8797-f444962df79c"
      },
      "source": [
        "best_result = gd_sr.best_score_ # Mean cross-validated score of the best_estimator\n",
        "print(best_result)\n",
        "print(type(best_result))"
      ],
      "execution_count": null,
      "outputs": [
        {
          "output_type": "stream",
          "text": [
            "0.8684365916215446\n",
            "<class 'numpy.float64'>\n"
          ],
          "name": "stdout"
        }
      ]
    },
    {
      "cell_type": "markdown",
      "metadata": {
        "id": "tbMaxoO-NSvr"
      },
      "source": [
        "Running the RF model for optimal parameter obtained"
      ]
    },
    {
      "cell_type": "code",
      "metadata": {
        "colab": {
          "base_uri": "https://localhost:8080/"
        },
        "id": "UEp9RvIVH5VV",
        "outputId": "4eeef743-9d99-4ad1-ebf0-9ac094232ddf"
      },
      "source": [
        "rfc = RandomForestClassifier(n_estimators=700, criterion='entropy', max_features='auto', random_state=1)\r\n",
        "rfc.fit(X_train,Y_train)\r\n",
        "rfc_pred = rfc.predict(X_test)\r\n",
        "print(confusion_matrix(Y_test, rfc_pred))\r\n",
        "print('Accuracy score:',accuracy_score(Y_test, rfc_pred))\r\n",
        "print(classification_report(Y_test, rfc_pred))"
      ],
      "execution_count": null,
      "outputs": [
        {
          "output_type": "stream",
          "text": [
            "[[1286  261]\n",
            " [ 222  344]]\n",
            "Accuracy score: 0.7714150496923805\n",
            "              precision    recall  f1-score   support\n",
            "\n",
            "           0       0.85      0.83      0.84      1547\n",
            "           1       0.57      0.61      0.59       566\n",
            "\n",
            "    accuracy                           0.77      2113\n",
            "   macro avg       0.71      0.72      0.71      2113\n",
            "weighted avg       0.78      0.77      0.77      2113\n",
            "\n"
          ],
          "name": "stdout"
        }
      ]
    },
    {
      "cell_type": "markdown",
      "metadata": {
        "id": "tuV_bO3UNyA4"
      },
      "source": [
        "Printing feature importance graph"
      ]
    },
    {
      "cell_type": "code",
      "metadata": {
        "colab": {
          "base_uri": "https://localhost:8080/"
        },
        "id": "wQwH39KL1sv7",
        "outputId": "3cae6959-141f-4eaa-a55d-df0a0831a8b5"
      },
      "source": [
        "featimp = pd.Series(rfc.feature_importances_, index=list(X)).sort_values(ascending=False)\n",
        "print(featimp)"
      ],
      "execution_count": null,
      "outputs": [
        {
          "output_type": "stream",
          "text": [
            "MonthlyCharges      0.183122\n",
            "tenure              0.176370\n",
            "TotalCharges        0.167887\n",
            "Contract            0.151457\n",
            "PaymentMethod       0.078249\n",
            "TechSupport         0.053756\n",
            "OnlineSecurity      0.041348\n",
            "InternetService     0.034862\n",
            "MultipleLines       0.030150\n",
            "OnlineBackup        0.027899\n",
            "gender              0.027756\n",
            "PaperlessBilling    0.027146\n",
            "dtype: float64\n"
          ],
          "name": "stdout"
        }
      ]
    },
    {
      "cell_type": "markdown",
      "metadata": {
        "id": "d4H_NrW2OABj"
      },
      "source": [
        "Plotting RF Confusion Matrix"
      ]
    },
    {
      "cell_type": "code",
      "metadata": {
        "colab": {
          "base_uri": "https://localhost:8080/",
          "height": 523
        },
        "id": "uzyBSyvHHQpk",
        "outputId": "164afba3-0bcf-4526-a220-eecf6a1a1a4b"
      },
      "source": [
        "Y_pred = rfc.predict(X_test)\r\n",
        "conf_mat = metrics.confusion_matrix(Y_test, Y_pred)\r\n",
        "plt.figure(figsize=(8,6))\r\n",
        "sns.heatmap(conf_mat,annot=True)\r\n",
        "plt.title(\"Confusion_matrix\")\r\n",
        "plt.xlabel(\"Predicted Class\")\r\n",
        "plt.ylabel(\"Actual class\")\r\n",
        "plt.show()\r\n",
        "print('Confusion matrix: \\n', conf_mat)\r\n",
        "print('TP: ', conf_mat[1,1])\r\n",
        "print('TN: ', conf_mat[0,0])\r\n",
        "print('FP: ', conf_mat[0,1])\r\n",
        "print('FN: ', conf_mat[1,0])"
      ],
      "execution_count": null,
      "outputs": [
        {
          "output_type": "display_data",
          "data": {
            "image/png": "[encoded data removed]",
            "text/plain": [
              "<Figure size 576x432 with 2 Axes>"
            ]
          },
          "metadata": {
            "tags": [],
            "needs_background": "light"
          }
        },
        {
          "output_type": "stream",
          "text": [
            "Confusion matrix: \n",
            " [[1286  261]\n",
            " [ 222  344]]\n",
            "TP:  344\n",
            "TN:  1286\n",
            "FP:  261\n",
            "FN:  222\n"
          ],
          "name": "stdout"
        }
      ]
    },
    {
      "cell_type": "markdown",
      "metadata": {
        "id": "fJwIf2F5OQFi"
      },
      "source": [
        "SVC Classifier Implementation and defining Grid Search Hyperparamters"
      ]
    },
    {
      "cell_type": "code",
      "metadata": {
        "id": "_tZp0ZYLrIlJ"
      },
      "source": [
        "from sklearn.svm import SVC \r\n",
        "svc = SVC(random_state=1)\r\n",
        "grid_param = {'C': [0.1, 1, 10, 25]}\r\n",
        "gd_sr_sv = GridSearchCV(estimator=svc, param_grid=grid_param, scoring='recall', cv=5)"
      ],
      "execution_count": null,
      "outputs": []
    },
    {
      "cell_type": "markdown",
      "metadata": {
        "id": "G1r2z8HuOdx8"
      },
      "source": [
        "Fitting the model"
      ]
    },
    {
      "cell_type": "code",
      "metadata": {
        "colab": {
          "base_uri": "https://localhost:8080/"
        },
        "id": "bXIDlGEasp3V",
        "outputId": "c14aad36-0342-4806-f0a3-e19c5949c0b4"
      },
      "source": [
        "gd_sr_sv.fit(X_train, Y_train)"
      ],
      "execution_count": null,
      "outputs": [
        {
          "output_type": "execute_result",
          "data": {
            "text/plain": [
              "GridSearchCV(cv=5, error_score=nan,\n",
              "             estimator=SVC(C=1.0, break_ties=False, cache_size=200,\n",
              "                           class_weight=None, coef0=0.0,\n",
              "                           decision_function_shape='ovr', degree=3,\n",
              "                           gamma='scale', kernel='rbf', max_iter=-1,\n",
              "                           probability=False, random_state=1, shrinking=True,\n",
              "                           tol=0.001, verbose=False),\n",
              "             iid='deprecated', n_jobs=None, param_grid={'C': [0.1, 1, 10, 25]},\n",
              "             pre_dispatch='2*n_jobs', refit=True, return_train_score=False,\n",
              "             scoring='recall', verbose=0)"
            ]
          },
          "metadata": {
            "tags": []
          },
          "execution_count": 43
        }
      ]
    },
    {
      "cell_type": "markdown",
      "metadata": {
        "id": "C6QKvtGmOlOd"
      },
      "source": [
        "Printing SVC Best Parameters"
      ]
    },
    {
      "cell_type": "code",
      "metadata": {
        "colab": {
          "base_uri": "https://localhost:8080/"
        },
        "id": "ZxjFC8GatGG7",
        "outputId": "5d2d9f43-2663-4059-84b7-b0031dcd1c43"
      },
      "source": [
        "best_parameters_svc = gd_sr_sv.best_params_\r\n",
        "print(best_parameters_svc)"
      ],
      "execution_count": null,
      "outputs": [
        {
          "output_type": "stream",
          "text": [
            "{'C': 25}\n"
          ],
          "name": "stdout"
        }
      ]
    },
    {
      "cell_type": "code",
      "metadata": {
        "colab": {
          "base_uri": "https://localhost:8080/"
        },
        "id": "CXEG2Cxgtd-F",
        "outputId": "6dd5af04-8171-45dc-bddb-b9665d65b307"
      },
      "source": [
        "best_result = gd_sr_sv.best_score_ # Mean cross-validated score of the best_estimator\r\n",
        "print(best_result)\r\n",
        "print(type(best_result))"
      ],
      "execution_count": null,
      "outputs": [
        {
          "output_type": "stream",
          "text": [
            "0.8861153225040374\n",
            "<class 'numpy.float64'>\n"
          ],
          "name": "stdout"
        }
      ]
    },
    {
      "cell_type": "markdown",
      "metadata": {
        "id": "zC2m3tPcO5nI"
      },
      "source": [
        "Running the SVC Model for optimal values from Grid Search"
      ]
    },
    {
      "cell_type": "code",
      "metadata": {
        "id": "Upd5FjYRt0IH"
      },
      "source": [
        "svc = SVC(C=25, random_state=1)"
      ],
      "execution_count": null,
      "outputs": []
    },
    {
      "cell_type": "markdown",
      "metadata": {
        "id": "mJNAn7wTPFNh"
      },
      "source": [
        "Printing Accuracy, Confusion matrix and Classification Report"
      ]
    },
    {
      "cell_type": "code",
      "metadata": {
        "colab": {
          "base_uri": "https://localhost:8080/"
        },
        "id": "PRo-ySgKuJ2z",
        "outputId": "2b6b52ea-d5fc-42f5-fe16-f3b0fd946200"
      },
      "source": [
        "svc.fit(X_train,Y_train)\r\n",
        "svc_pred = svc.predict(X_test)\r\n",
        "print(confusion_matrix(Y_test,svc_pred))\r\n",
        "print('accuracy_score:',accuracy_score(Y_test, svc_pred))\r\n",
        "print(classification_report(Y_test, svc_pred))"
      ],
      "execution_count": null,
      "outputs": [
        {
          "output_type": "stream",
          "text": [
            "[[1146  401]\n",
            " [ 159  407]]\n",
            "accuracy_score: 0.7349739706578324\n",
            "              precision    recall  f1-score   support\n",
            "\n",
            "           0       0.88      0.74      0.80      1547\n",
            "           1       0.50      0.72      0.59       566\n",
            "\n",
            "    accuracy                           0.73      2113\n",
            "   macro avg       0.69      0.73      0.70      2113\n",
            "weighted avg       0.78      0.73      0.75      2113\n",
            "\n"
          ],
          "name": "stdout"
        }
      ]
    },
    {
      "cell_type": "markdown",
      "metadata": {
        "id": "QLgrgLzKPMVJ"
      },
      "source": [
        "plotting SVC Confusion Matrix"
      ]
    },
    {
      "cell_type": "code",
      "metadata": {
        "colab": {
          "base_uri": "https://localhost:8080/",
          "height": 528
        },
        "id": "xEZKs2VVHVxT",
        "outputId": "ce976108-5dfa-4a59-fd42-7b66c6597593"
      },
      "source": [
        "svc_pred = svc.predict(X_test)\r\n",
        "conf_mat = metrics.confusion_matrix(Y_test, svc_pred)\r\n",
        "plt.figure(figsize=(8,6))\r\n",
        "sns.heatmap(conf_mat,annot=True)\r\n",
        "plt.title(\"Confusion_matrix\")\r\n",
        "plt.xlabel(\"Predicted Class\")\r\n",
        "plt.ylabel(\"Actual class\")\r\n",
        "plt.show()\r\n",
        "print('Confusion matrix: \\n', conf_mat)\r\n",
        "print('TP: ', conf_mat[1,1])\r\n",
        "print('TN: ', conf_mat[0,0])\r\n",
        "print('FP: ', conf_mat[0,1])\r\n",
        "print('FN: ', conf_mat[1,0])"
      ],
      "execution_count": null,
      "outputs": [
        {
          "output_type": "display_data",
          "data": {
            "image/png": "[encoded data removed]",
            "text/plain": [
              "<Figure size 576x432 with 2 Axes>"
            ]
          },
          "metadata": {
            "tags": [],
            "needs_background": "light"
          }
        },
        {
          "output_type": "stream",
          "text": [
            "Confusion matrix: \n",
            " [[1146  401]\n",
            " [ 159  407]]\n",
            "TP:  407\n",
            "TN:  1146\n",
            "FP:  401\n",
            "FN:  159\n"
          ],
          "name": "stdout"
        }
      ]
    },
    {
      "cell_type": "markdown",
      "metadata": {
        "id": "hHzbEhEcPgrq"
      },
      "source": [
        "Running KNN classifier"
      ]
    },
    {
      "cell_type": "code",
      "metadata": {
        "colab": {
          "base_uri": "https://localhost:8080/"
        },
        "id": "_iyvbVZm1sv7",
        "outputId": "5c447e42-27b5-4260-8299-36162270f789"
      },
      "source": [
        "classifier = KNeighborsClassifier(n_neighbors=5, metric = 'minkowski', p = 2)\n",
        "classifier.fit(X_train, Y_train)"
      ],
      "execution_count": null,
      "outputs": [
        {
          "output_type": "execute_result",
          "data": {
            "text/plain": [
              "KNeighborsClassifier(algorithm='auto', leaf_size=30, metric='minkowski',\n",
              "                     metric_params=None, n_jobs=None, n_neighbors=5, p=2,\n",
              "                     weights='uniform')"
            ]
          },
          "metadata": {
            "tags": []
          },
          "execution_count": 114
        }
      ]
    },
    {
      "cell_type": "markdown",
      "metadata": {
        "id": "9jOP4wRkPpuu"
      },
      "source": [
        "Fitting KNN Classifier"
      ]
    },
    {
      "cell_type": "code",
      "metadata": {
        "id": "oWJKSB6l1sv8"
      },
      "source": [
        "yk_pred = classifier.predict(X_test)"
      ],
      "execution_count": null,
      "outputs": []
    },
    {
      "cell_type": "markdown",
      "metadata": {
        "id": "gp0bkpKNP0sM"
      },
      "source": [
        "Printing KNN Evaluation metrics"
      ]
    },
    {
      "cell_type": "code",
      "metadata": {
        "colab": {
          "base_uri": "https://localhost:8080/"
        },
        "id": "YAM78Xyt1sv9",
        "outputId": "4a531d7d-28df-4920-8e33-57147d37e8ed"
      },
      "source": [
        "from sklearn.metrics import classification_report, confusion_matrix, accuracy_score\n",
        "print(confusion_matrix(Y_test, yk_pred))\n",
        "print(classification_report(Y_test, yk_pred))\n",
        "accuracy_score(Y_test, yk_pred)"
      ],
      "execution_count": null,
      "outputs": [
        {
          "output_type": "stream",
          "text": [
            "[[1069  478]\n",
            " [ 176  390]]\n",
            "              precision    recall  f1-score   support\n",
            "\n",
            "           0       0.86      0.69      0.77      1547\n",
            "           1       0.45      0.69      0.54       566\n",
            "\n",
            "    accuracy                           0.69      2113\n",
            "   macro avg       0.65      0.69      0.65      2113\n",
            "weighted avg       0.75      0.69      0.71      2113\n",
            "\n"
          ],
          "name": "stdout"
        },
        {
          "output_type": "execute_result",
          "data": {
            "text/plain": [
              "0.690487458589683"
            ]
          },
          "metadata": {
            "tags": []
          },
          "execution_count": 117
        }
      ]
    },
    {
      "cell_type": "markdown",
      "metadata": {
        "id": "yrHf9wvzP2Jq"
      },
      "source": [
        "Plotting KNN Confusion Matrix"
      ]
    },
    {
      "cell_type": "code",
      "metadata": {
        "colab": {
          "base_uri": "https://localhost:8080/",
          "height": 523
        },
        "id": "rvJ7bY8UgcY0",
        "outputId": "b646c603-4b57-4292-d298-d1ee3d90927d"
      },
      "source": [
        "yk_pred = classifier.predict(X_test)\r\n",
        "conf_mat = metrics.confusion_matrix(Y_test, yk_pred)\r\n",
        "plt.figure(figsize=(8,6))\r\n",
        "sns.heatmap(conf_mat,annot=True)\r\n",
        "plt.title(\"Confusion_matrix\")\r\n",
        "plt.xlabel(\"Predicted Class\")\r\n",
        "plt.ylabel(\"Actual class\")\r\n",
        "plt.show()\r\n",
        "print('Confusion matrix: \\n', conf_mat)\r\n",
        "print('TP: ', conf_mat[1,1])\r\n",
        "print('TN: ', conf_mat[0,0])\r\n",
        "print('FP: ', conf_mat[0,1])\r\n",
        "print('FN: ', conf_mat[1,0])"
      ],
      "execution_count": null,
      "outputs": [
        {
          "output_type": "display_data",
          "data": {
            "image/png": "[encoded data removed]",
            "text/plain": [
              "<Figure size 576x432 with 2 Axes>"
            ]
          },
          "metadata": {
            "tags": [],
            "needs_background": "light"
          }
        },
        {
          "output_type": "stream",
          "text": [
            "Confusion matrix: \n",
            " [[1069  478]\n",
            " [ 176  390]]\n",
            "TP:  390\n",
            "TN:  1069\n",
            "FP:  478\n",
            "FN:  176\n"
          ],
          "name": "stdout"
        }
      ]
    },
    {
      "cell_type": "markdown",
      "metadata": {
        "id": "t75pMEjdQDR4"
      },
      "source": [
        "XG Boost Classiifer implementation and Providing Grid Search Values"
      ]
    },
    {
      "cell_type": "code",
      "metadata": {
        "id": "iqtpAVukKYhf"
      },
      "source": [
        "xg_class=xgb.XGBClassifier(random_state=1)\r\n",
        "xggrid_param = {'n_estimators': [300,350,400, 450 ,500, 550, 600, 650, 700],'learning_rate': [0.05,0.01,0.1, 0.5, 1]}\r\n",
        "\r\n",
        "xggd_sr = GridSearchCV(estimator=xg_class, param_grid=xggrid_param, scoring='recall', cv=5)"
      ],
      "execution_count": null,
      "outputs": []
    },
    {
      "cell_type": "code",
      "metadata": {
        "colab": {
          "base_uri": "https://localhost:8080/"
        },
        "id": "o-K33OzLLCmO",
        "outputId": "99fdb49f-ea0a-4148-e087-9527269328f1"
      },
      "source": [
        "xggd_sr.fit(X_train, Y_train)"
      ],
      "execution_count": null,
      "outputs": [
        {
          "output_type": "execute_result",
          "data": {
            "text/plain": [
              "GridSearchCV(cv=5, error_score=nan,\n",
              "             estimator=XGBClassifier(base_score=0.5, booster='gbtree',\n",
              "                                     colsample_bylevel=1, colsample_bynode=1,\n",
              "                                     colsample_bytree=1, gamma=0,\n",
              "                                     learning_rate=0.1, max_delta_step=0,\n",
              "                                     max_depth=3, min_child_weight=1,\n",
              "                                     missing=None, n_estimators=100, n_jobs=1,\n",
              "                                     nthread=None, objective='binary:logistic',\n",
              "                                     random_state=1, reg_alpha=0, reg_lambda=1,\n",
              "                                     scale_pos_weight=1, seed=None, silent=None,\n",
              "                                     subsample=1, verbosity=1),\n",
              "             iid='deprecated', n_jobs=None,\n",
              "             param_grid={'learning_rate': [0.05, 0.01, 0.1, 0.5, 1],\n",
              "                         'n_estimators': [300, 350, 400, 450, 500, 550, 600,\n",
              "                                          650, 700]},\n",
              "             pre_dispatch='2*n_jobs', refit=True, return_train_score=False,\n",
              "             scoring='recall', verbose=0)"
            ]
          },
          "metadata": {
            "tags": []
          },
          "execution_count": 127
        }
      ]
    },
    {
      "cell_type": "markdown",
      "metadata": {
        "id": "pa_kGc9gQSU3"
      },
      "source": [
        "Printing XGBoost Best Paramters"
      ]
    },
    {
      "cell_type": "code",
      "metadata": {
        "colab": {
          "base_uri": "https://localhost:8080/"
        },
        "id": "g6Rb5aItLQrW",
        "outputId": "82d0753b-740b-436b-cf16-7e26ba5dabb8"
      },
      "source": [
        "best_parameters = xggd_sr.best_params_\r\n",
        "print(best_parameters)"
      ],
      "execution_count": null,
      "outputs": [
        {
          "output_type": "stream",
          "text": [
            "{'learning_rate': 0.01, 'n_estimators': 400}\n"
          ],
          "name": "stdout"
        }
      ]
    },
    {
      "cell_type": "code",
      "metadata": {
        "colab": {
          "base_uri": "https://localhost:8080/"
        },
        "id": "t2091ujvLQwR",
        "outputId": "2408dcec-0960-400d-963e-baa2aa85287f"
      },
      "source": [
        "best_result = xggd_sr.best_score_ # Mean cross-validated score of the best_estimator\r\n",
        "print(best_result)\r\n",
        "print(type(best_result))"
      ],
      "execution_count": null,
      "outputs": [
        {
          "output_type": "stream",
          "text": [
            "0.8690050346727463\n",
            "<class 'numpy.float64'>\n"
          ],
          "name": "stdout"
        }
      ]
    },
    {
      "cell_type": "markdown",
      "metadata": {
        "id": "A5fJMP0LQime"
      },
      "source": [
        "Printing XGBoost Evaluation Metrics"
      ]
    },
    {
      "cell_type": "code",
      "metadata": {
        "colab": {
          "base_uri": "https://localhost:8080/"
        },
        "id": "IeG6hckjL8-U",
        "outputId": "72f58655-b0c4-433d-bedf-db35c694cf5e"
      },
      "source": [
        "from sklearn.metrics import confusion_matrix, accuracy_score, classification_report\r\n",
        "xg_class = xgb.XGBClassifier(n_estimators=400, learning_rate=0.01, random_state=1)\r\n",
        "xg_class.fit(X_train,Y_train)\r\n",
        "xgb_pred = xg_class.predict(X_test)\r\n",
        "print(confusion_matrix(Y_test,xgb_pred))\r\n",
        "print('Accuracy score:',accuracy_score(Y_test, xgb_pred))\r\n",
        "print(classification_report(Y_test, xgb_pred))"
      ],
      "execution_count": null,
      "outputs": [
        {
          "output_type": "stream",
          "text": [
            "[[1132  415]\n",
            " [ 133  433]]\n",
            "Accuracy score: 0.7406530998580217\n",
            "              precision    recall  f1-score   support\n",
            "\n",
            "           0       0.89      0.73      0.81      1547\n",
            "           1       0.51      0.77      0.61       566\n",
            "\n",
            "    accuracy                           0.74      2113\n",
            "   macro avg       0.70      0.75      0.71      2113\n",
            "weighted avg       0.79      0.74      0.75      2113\n",
            "\n"
          ],
          "name": "stdout"
        }
      ]
    },
    {
      "cell_type": "markdown",
      "metadata": {
        "id": "fZ1Zi69zRUg-"
      },
      "source": [
        "Plotting XGBoost Confusion Matrix"
      ]
    },
    {
      "cell_type": "code",
      "metadata": {
        "colab": {
          "base_uri": "https://localhost:8080/",
          "height": 523
        },
        "id": "AiJVJmjwNIIJ",
        "outputId": "8c24eeb7-60d4-406d-82bb-be388c821dfb"
      },
      "source": [
        "xgb_pred = xg_class.predict(X_test)\r\n",
        "conf_mat = metrics.confusion_matrix(Y_test, xgb_pred)\r\n",
        "plt.figure(figsize=(8,6))\r\n",
        "sns.heatmap(conf_mat,annot=True)\r\n",
        "plt.title(\"Confusion_matrix\")\r\n",
        "plt.xlabel(\"Predicted Class\")\r\n",
        "plt.ylabel(\"Actual class\")\r\n",
        "plt.show()\r\n",
        "print('Confusion matrix: \\n', conf_mat)\r\n",
        "print('TP: ', conf_mat[1,1])\r\n",
        "print('TN: ', conf_mat[0,0])\r\n",
        "print('FP: ', conf_mat[0,1])\r\n",
        "print('FN: ', conf_mat[1,0])"
      ],
      "execution_count": null,
      "outputs": [
        {
          "output_type": "display_data",
          "data": {
            "image/png": "[encoded data removed]",
            "text/plain": [
              "<Figure size 576x432 with 2 Axes>"
            ]
          },
          "metadata": {
            "tags": [],
            "needs_background": "light"
          }
        },
        {
          "output_type": "stream",
          "text": [
            "Confusion matrix: \n",
            " [[1132  415]\n",
            " [ 133  433]]\n",
            "TP:  433\n",
            "TN:  1132\n",
            "FP:  415\n",
            "FN:  133\n"
          ],
          "name": "stdout"
        }
      ]
    },
    {
      "cell_type": "markdown",
      "metadata": {
        "id": "dSxshm7gRosG"
      },
      "source": [
        "Importing Packages for ANN"
      ]
    },
    {
      "cell_type": "code",
      "metadata": {
        "id": "fErgX-v91sv-"
      },
      "source": [
        "import tensorflow as tf\n",
        "import keras\n",
        "from keras.models import Sequential\n",
        "from keras.layers import Dense\n",
        "from keras.layers import LeakyReLU, PReLU, ELU\n",
        "from keras.layers import Dropout"
      ],
      "execution_count": null,
      "outputs": []
    },
    {
      "cell_type": "code",
      "metadata": {
        "id": "SJbTgaNd1sv-"
      },
      "source": [
        "#pip install keras"
      ],
      "execution_count": null,
      "outputs": []
    },
    {
      "cell_type": "code",
      "metadata": {
        "id": "r_5b942-1sv-"
      },
      "source": [
        "#pip install tensorflow"
      ],
      "execution_count": null,
      "outputs": []
    },
    {
      "cell_type": "code",
      "metadata": {
        "id": "wqWPAzjr1sv-"
      },
      "source": [
        "ann = tf.keras.models.Sequential()"
      ],
      "execution_count": null,
      "outputs": []
    },
    {
      "cell_type": "code",
      "metadata": {
        "id": "05l20s7V1sv_"
      },
      "source": [
        "# Adding the input layer and the first hidden layer\n",
        "ann.add(Dense(units = 15, kernel_initializer = 'uniform', activation = 'relu', input_dim = 16))"
      ],
      "execution_count": null,
      "outputs": []
    },
    {
      "cell_type": "code",
      "metadata": {
        "id": "Bmq3b-rz1sv_"
      },
      "source": [
        "# Adding the second hidden layer\n",
        "ann.add(Dense(units = 15, kernel_initializer = 'uniform', activation = 'relu'))"
      ],
      "execution_count": null,
      "outputs": []
    },
    {
      "cell_type": "code",
      "metadata": {
        "id": "kF9USBqh1sv_"
      },
      "source": [
        "# Adding the output layer\n",
        "ann.add(Dense(units = 1, kernel_initializer = 'uniform', activation = 'sigmoid'))"
      ],
      "execution_count": null,
      "outputs": []
    },
    {
      "cell_type": "code",
      "metadata": {
        "id": "T_M495DH1swA"
      },
      "source": [
        "# Compiling the ANN\n",
        "ann.compile(optimizer = 'adam', loss = 'binary_crossentropy', metrics = ['Recall','accuracy','AUC'])"
      ],
      "execution_count": null,
      "outputs": []
    },
    {
      "cell_type": "markdown",
      "metadata": {
        "id": "mEEXBKpSR5oB"
      },
      "source": [
        "Fitting ANN with by providing epoch and batch sizes"
      ]
    },
    {
      "cell_type": "code",
      "metadata": {
        "colab": {
          "base_uri": "https://localhost:8080/"
        },
        "id": "Qvk-SBgA1swA",
        "outputId": "f42e3b64-0d0f-40a9-e136-c563da26a6e8"
      },
      "source": [
        "ann.fit(X_train, Y_train, batch_size = 8, epochs = 50)"
      ],
      "execution_count": null,
      "outputs": [
        {
          "output_type": "stream",
          "text": [
            "Epoch 1/50\n",
            "907/907 [==============================] - 3s 2ms/step - loss: 0.5680 - recall: 0.7842 - accuracy: 0.7189 - auc: 0.7797\n",
            "Epoch 2/50\n",
            "907/907 [==============================] - 1s 1ms/step - loss: 0.4696 - recall: 0.8106 - accuracy: 0.7731 - auc: 0.8561\n",
            "Epoch 3/50\n",
            "907/907 [==============================] - 1s 2ms/step - loss: 0.4618 - recall: 0.8003 - accuracy: 0.7763 - auc: 0.8626\n",
            "Epoch 4/50\n",
            "907/907 [==============================] - 1s 2ms/step - loss: 0.4648 - recall: 0.8000 - accuracy: 0.7781 - auc: 0.8597\n",
            "Epoch 5/50\n",
            "907/907 [==============================] - 1s 2ms/step - loss: 0.4569 - recall: 0.8000 - accuracy: 0.7825 - auc: 0.8638\n",
            "Epoch 6/50\n",
            "907/907 [==============================] - 1s 2ms/step - loss: 0.4493 - recall: 0.8062 - accuracy: 0.7844 - auc: 0.8693\n",
            "Epoch 7/50\n",
            "907/907 [==============================] - 1s 2ms/step - loss: 0.4522 - recall: 0.8279 - accuracy: 0.7923 - auc: 0.8673\n",
            "Epoch 8/50\n",
            "907/907 [==============================] - 1s 2ms/step - loss: 0.4417 - recall: 0.8058 - accuracy: 0.7887 - auc: 0.8738\n",
            "Epoch 9/50\n",
            "907/907 [==============================] - 1s 2ms/step - loss: 0.4323 - recall: 0.8328 - accuracy: 0.7965 - auc: 0.8805\n",
            "Epoch 10/50\n",
            "907/907 [==============================] - 1s 1ms/step - loss: 0.4362 - recall: 0.8128 - accuracy: 0.7989 - auc: 0.8777\n",
            "Epoch 11/50\n",
            "907/907 [==============================] - 1s 1ms/step - loss: 0.4438 - recall: 0.8241 - accuracy: 0.7954 - auc: 0.8737\n",
            "Epoch 12/50\n",
            "907/907 [==============================] - 1s 1ms/step - loss: 0.4413 - recall: 0.8190 - accuracy: 0.7911 - auc: 0.8741\n",
            "Epoch 13/50\n",
            "907/907 [==============================] - 1s 1ms/step - loss: 0.4316 - recall: 0.8228 - accuracy: 0.7965 - auc: 0.8801\n",
            "Epoch 14/50\n",
            "907/907 [==============================] - 1s 1ms/step - loss: 0.4407 - recall: 0.8256 - accuracy: 0.7917 - auc: 0.8739\n",
            "Epoch 15/50\n",
            "907/907 [==============================] - 1s 1ms/step - loss: 0.4395 - recall: 0.8257 - accuracy: 0.7943 - auc: 0.8750\n",
            "Epoch 16/50\n",
            "907/907 [==============================] - 1s 1ms/step - loss: 0.4353 - recall: 0.8416 - accuracy: 0.8004 - auc: 0.8774\n",
            "Epoch 17/50\n",
            "907/907 [==============================] - 1s 1ms/step - loss: 0.4282 - recall: 0.8279 - accuracy: 0.8008 - auc: 0.8814\n",
            "Epoch 18/50\n",
            "907/907 [==============================] - 1s 1ms/step - loss: 0.4238 - recall: 0.8384 - accuracy: 0.8073 - auc: 0.8855\n",
            "Epoch 19/50\n",
            "907/907 [==============================] - 1s 1ms/step - loss: 0.4264 - recall: 0.8427 - accuracy: 0.8084 - auc: 0.8825\n",
            "Epoch 20/50\n",
            "907/907 [==============================] - 1s 1ms/step - loss: 0.4324 - recall: 0.8321 - accuracy: 0.8012 - auc: 0.8787\n",
            "Epoch 21/50\n",
            "907/907 [==============================] - 1s 1ms/step - loss: 0.4302 - recall: 0.8237 - accuracy: 0.8061 - auc: 0.8803\n",
            "Epoch 22/50\n",
            "907/907 [==============================] - 1s 1ms/step - loss: 0.4287 - recall: 0.8353 - accuracy: 0.7996 - auc: 0.8806\n",
            "Epoch 23/50\n",
            "907/907 [==============================] - 1s 2ms/step - loss: 0.4248 - recall: 0.8325 - accuracy: 0.8013 - auc: 0.8834\n",
            "Epoch 24/50\n",
            "907/907 [==============================] - 1s 1ms/step - loss: 0.4184 - recall: 0.8396 - accuracy: 0.8139 - auc: 0.8879\n",
            "Epoch 25/50\n",
            "907/907 [==============================] - 1s 1ms/step - loss: 0.4273 - recall: 0.8270 - accuracy: 0.7980 - auc: 0.8827\n",
            "Epoch 26/50\n",
            "907/907 [==============================] - 1s 1ms/step - loss: 0.4142 - recall: 0.8397 - accuracy: 0.8095 - auc: 0.8891\n",
            "Epoch 27/50\n",
            "907/907 [==============================] - 1s 1ms/step - loss: 0.4233 - recall: 0.8387 - accuracy: 0.8067 - auc: 0.8838\n",
            "Epoch 28/50\n",
            "907/907 [==============================] - 1s 1ms/step - loss: 0.4191 - recall: 0.8313 - accuracy: 0.8052 - auc: 0.8862\n",
            "Epoch 29/50\n",
            "907/907 [==============================] - 1s 1ms/step - loss: 0.4255 - recall: 0.8500 - accuracy: 0.8032 - auc: 0.8833\n",
            "Epoch 30/50\n",
            "907/907 [==============================] - 1s 1ms/step - loss: 0.4221 - recall: 0.8288 - accuracy: 0.8006 - auc: 0.8855\n",
            "Epoch 31/50\n",
            "907/907 [==============================] - 1s 1ms/step - loss: 0.4107 - recall: 0.8517 - accuracy: 0.8155 - auc: 0.8918\n",
            "Epoch 32/50\n",
            "907/907 [==============================] - 1s 1ms/step - loss: 0.4134 - recall: 0.8490 - accuracy: 0.8152 - auc: 0.8902\n",
            "Epoch 33/50\n",
            "907/907 [==============================] - 1s 1ms/step - loss: 0.4151 - recall: 0.8265 - accuracy: 0.8087 - auc: 0.8898\n",
            "Epoch 34/50\n",
            "907/907 [==============================] - 1s 1ms/step - loss: 0.4073 - recall: 0.8565 - accuracy: 0.8211 - auc: 0.8934\n",
            "Epoch 35/50\n",
            "907/907 [==============================] - 1s 1ms/step - loss: 0.4103 - recall: 0.8511 - accuracy: 0.8188 - auc: 0.8899\n",
            "Epoch 36/50\n",
            "907/907 [==============================] - 1s 1ms/step - loss: 0.4273 - recall: 0.8308 - accuracy: 0.8033 - auc: 0.8821\n",
            "Epoch 37/50\n",
            "907/907 [==============================] - 1s 1ms/step - loss: 0.4109 - recall: 0.8518 - accuracy: 0.8166 - auc: 0.8904\n",
            "Epoch 38/50\n",
            "907/907 [==============================] - 1s 1ms/step - loss: 0.3991 - recall: 0.8518 - accuracy: 0.8193 - auc: 0.8975\n",
            "Epoch 39/50\n",
            "907/907 [==============================] - 1s 1ms/step - loss: 0.4151 - recall: 0.8451 - accuracy: 0.8144 - auc: 0.8893\n",
            "Epoch 40/50\n",
            "907/907 [==============================] - 1s 1ms/step - loss: 0.3999 - recall: 0.8590 - accuracy: 0.8219 - auc: 0.8975\n",
            "Epoch 41/50\n",
            "907/907 [==============================] - 1s 1ms/step - loss: 0.4078 - recall: 0.8400 - accuracy: 0.8192 - auc: 0.8945\n",
            "Epoch 42/50\n",
            "907/907 [==============================] - 1s 1ms/step - loss: 0.3934 - recall: 0.8612 - accuracy: 0.8300 - auc: 0.9014\n",
            "Epoch 43/50\n",
            "907/907 [==============================] - 1s 1ms/step - loss: 0.4095 - recall: 0.8467 - accuracy: 0.8161 - auc: 0.8922\n",
            "Epoch 44/50\n",
            "907/907 [==============================] - 1s 1ms/step - loss: 0.4030 - recall: 0.8452 - accuracy: 0.8209 - auc: 0.8953\n",
            "Epoch 45/50\n",
            "907/907 [==============================] - 1s 1ms/step - loss: 0.4133 - recall: 0.8421 - accuracy: 0.8127 - auc: 0.8902\n",
            "Epoch 46/50\n",
            "907/907 [==============================] - 1s 1ms/step - loss: 0.4054 - recall: 0.8501 - accuracy: 0.8197 - auc: 0.8950\n",
            "Epoch 47/50\n",
            "907/907 [==============================] - 1s 1ms/step - loss: 0.4123 - recall: 0.8554 - accuracy: 0.8136 - auc: 0.8891\n",
            "Epoch 48/50\n",
            "907/907 [==============================] - 1s 1ms/step - loss: 0.4117 - recall: 0.8347 - accuracy: 0.8108 - auc: 0.8902\n",
            "Epoch 49/50\n",
            "907/907 [==============================] - 1s 1ms/step - loss: 0.4018 - recall: 0.8477 - accuracy: 0.8171 - auc: 0.8963\n",
            "Epoch 50/50\n",
            "907/907 [==============================] - 1s 1ms/step - loss: 0.3926 - recall: 0.8483 - accuracy: 0.8238 - auc: 0.9020\n"
          ],
          "name": "stdout"
        },
        {
          "output_type": "execute_result",
          "data": {
            "text/plain": [
              "<tensorflow.python.keras.callbacks.History at 0x7f860671c518>"
            ]
          },
          "metadata": {
            "tags": []
          },
          "execution_count": 57
        }
      ]
    },
    {
      "cell_type": "markdown",
      "metadata": {
        "id": "Xz5MafXfR_-i"
      },
      "source": [
        "ANN prediction on test set"
      ]
    },
    {
      "cell_type": "code",
      "metadata": {
        "colab": {
          "base_uri": "https://localhost:8080/"
        },
        "id": "PDif94T51swA",
        "outputId": "8c189983-3d3c-4f1d-e535-c5e9b4857e67"
      },
      "source": [
        "yann_pred = ann.predict(X_test)\n",
        "yannb_pred = (yann_pred > 0.5)\n",
        "print(np.concatenate((yannb_pred.reshape(len(yannb_pred),1), Y_test.values.reshape(len(Y_test),1)),1))"
      ],
      "execution_count": null,
      "outputs": [
        {
          "output_type": "stream",
          "text": [
            "[[0 0]\n",
            " [0 0]\n",
            " [0 0]\n",
            " ...\n",
            " [1 0]\n",
            " [0 0]\n",
            " [0 0]]\n"
          ],
          "name": "stdout"
        }
      ]
    },
    {
      "cell_type": "markdown",
      "metadata": {
        "id": "WfDY1Xi-SETw"
      },
      "source": [
        "Printing ANN evaluation metrics"
      ]
    },
    {
      "cell_type": "code",
      "metadata": {
        "colab": {
          "base_uri": "https://localhost:8080/"
        },
        "id": "owZxrQUE1swB",
        "outputId": "1211c8e2-f90c-404a-8b87-c3ca4fd69a5c"
      },
      "source": [
        "from sklearn.metrics import confusion_matrix, accuracy_score, classification_report\n",
        "cm = confusion_matrix(Y_test, yannb_pred)\n",
        "print(cm)\n",
        "print(\"accuracy: %f\" % accuracy_score(Y_test, yannb_pred))\n",
        "print(classification_report(Y_test, yannb_pred))"
      ],
      "execution_count": null,
      "outputs": [
        {
          "output_type": "stream",
          "text": [
            "[[1148  399]\n",
            " [ 159  407]]\n",
            "accuracy: 0.735920\n",
            "              precision    recall  f1-score   support\n",
            "\n",
            "           0       0.88      0.74      0.80      1547\n",
            "           1       0.50      0.72      0.59       566\n",
            "\n",
            "    accuracy                           0.74      2113\n",
            "   macro avg       0.69      0.73      0.70      2113\n",
            "weighted avg       0.78      0.74      0.75      2113\n",
            "\n"
          ],
          "name": "stdout"
        }
      ]
    },
    {
      "cell_type": "markdown",
      "metadata": {
        "id": "9A3S3eztSLsQ"
      },
      "source": [
        "Printing ANN Confusion matrix"
      ]
    },
    {
      "cell_type": "code",
      "metadata": {
        "id": "p_vyX_iq1swB",
        "colab": {
          "base_uri": "https://localhost:8080/",
          "height": 523
        },
        "outputId": "7e8d677d-362c-4932-e13d-fda9f201ecc7"
      },
      "source": [
        "yann_pred = ann.predict(X_test)\r\n",
        "conf_mat = metrics.confusion_matrix(Y_test, yannb_pred)\r\n",
        "plt.figure(figsize=(8,6))\r\n",
        "sns.heatmap(conf_mat,annot=True)\r\n",
        "plt.title(\"Confusion_matrix\")\r\n",
        "plt.xlabel(\"Predicted Class\")\r\n",
        "plt.ylabel(\"Actual class\")\r\n",
        "plt.show()\r\n",
        "print('Confusion matrix: \\n', conf_mat)\r\n",
        "print('TP: ', conf_mat[1,1])\r\n",
        "print('TN: ', conf_mat[0,0])\r\n",
        "print('FP: ', conf_mat[0,1])\r\n",
        "print('FN: ', conf_mat[1,0])"
      ],
      "execution_count": null,
      "outputs": [
        {
          "output_type": "display_data",
          "data": {
            "image/png": "[encoded data removed]",
            "text/plain": [
              "<Figure size 576x432 with 2 Axes>"
            ]
          },
          "metadata": {
            "tags": [],
            "needs_background": "light"
          }
        },
        {
          "output_type": "stream",
          "text": [
            "Confusion matrix: \n",
            " [[1148  399]\n",
            " [ 159  407]]\n",
            "TP:  407\n",
            "TN:  1148\n",
            "FP:  399\n",
            "FN:  159\n"
          ],
          "name": "stdout"
        }
      ]
    }
  ]
}