{
  "nbformat": 4,
  "nbformat_minor": 0,
  "metadata": {
    "accelerator": "GPU",
    "colab": {
      "name": "Telecomchurn_IBM_beforefeaturesel.ipynb",
      "provenance": [],
      "collapsed_sections": []
    },
    "kernelspec": {
      "display_name": "Python 3",
      "language": "python",
      "name": "python3"
    },
    "language_info": {
      "codemirror_mode": {
        "name": "ipython",
        "version": 3
      },
      "file_extension": ".py",
      "mimetype": "text/x-python",
      "name": "python",
      "nbconvert_exporter": "python",
      "pygments_lexer": "ipython3",
      "version": "3.8.3"
    }
  },
  "cells": [
    {
      "cell_type": "markdown",
      "metadata": {
        "id": "4ahtXe1XgZaN"
      },
      "source": [
        "Importing Required packages"
      ]
    },
    {
      "cell_type": "code",
      "metadata": {
        "id": "jyvoakBs1svi"
      },
      "source": [
        "import numpy as np\n",
        "import pandas as pd\n",
        "import matplotlib.pyplot as plt\n",
        "import xgboost as xgb\n",
        "import seaborn as sns\n",
        "from sklearn.model_selection import train_test_split\n",
        "from sklearn.preprocessing import StandardScaler\n",
        "from sklearn import tree\n",
        "from sklearn.model_selection import GridSearchCV\n",
        "from sklearn import metrics\n",
        "from imblearn.over_sampling import SMOTE  # imblearn library can be installed using pip install imblearn\n",
        "from sklearn.ensemble import RandomForestClassifier\n",
        "from sklearn.neighbors import KNeighborsClassifier\n",
        "import plotly.graph_objs as go\n",
        "import plotly .offline as offline\n",
        "import plotly.figure_factory as ff\n",
        "from sklearn.svm import SVC \n",
        "from sklearn.metrics import confusion_matrix, accuracy_score, classification_report"
      ],
      "execution_count": null,
      "outputs": []
    },
    {
      "cell_type": "code",
      "metadata": {
        "id": "RfVOK4I11svv"
      },
      "source": [
        "#pip install xgboost\r\n",
        "#pip install imblearn"
      ],
      "execution_count": null,
      "outputs": []
    },
    {
      "cell_type": "markdown",
      "metadata": {
        "id": "saqAyfv4gxWl"
      },
      "source": [
        "Importing the datset and analysing"
      ]
    },
    {
      "cell_type": "code",
      "metadata": {
        "colab": {
          "base_uri": "https://localhost:8080/"
        },
        "id": "MmfF_hNq1svw",
        "outputId": "05d5e69c-ca3c-4397-8955-310ec36909ad"
      },
      "source": [
        "dataset = pd.read_csv(\"/content/WA_Fn-UseC_-Telco-Customer-Churn.csv\")\n",
        "pd.set_option('display.max_columns', None) # Will ensure that all columns are displayed\n",
        "print(dataset.head())\n",
        "print(dataset.shape)\n",
        "print(dataset.info())\n",
        "print(dataset.describe())"
      ],
      "execution_count": null,
      "outputs": [
        {
          "output_type": "stream",
          "text": [
            "   customerID  gender  SeniorCitizen Partner Dependents  tenure PhoneService  \\\n",
            "0  7590-VHVEG  Female              0     Yes         No       1           No   \n",
            "1  5575-GNVDE    Male              0      No         No      34          Yes   \n",
            "2  3668-QPYBK    Male              0      No         No       2          Yes   \n",
            "3  7795-CFOCW    Male              0      No         No      45           No   \n",
            "4  9237-HQITU  Female              0      No         No       2          Yes   \n",
            "\n",
            "      MultipleLines InternetService OnlineSecurity OnlineBackup  \\\n",
            "0  No phone service             DSL             No          Yes   \n",
            "1                No             DSL            Yes           No   \n",
            "2                No             DSL            Yes          Yes   \n",
            "3  No phone service             DSL            Yes           No   \n",
            "4                No     Fiber optic             No           No   \n",
            "\n",
            "  DeviceProtection TechSupport StreamingTV StreamingMovies        Contract  \\\n",
            "0               No          No          No              No  Month-to-month   \n",
            "1              Yes          No          No              No        One year   \n",
            "2               No          No          No              No  Month-to-month   \n",
            "3              Yes         Yes          No              No        One year   \n",
            "4               No          No          No              No  Month-to-month   \n",
            "\n",
            "  PaperlessBilling              PaymentMethod  MonthlyCharges TotalCharges  \\\n",
            "0              Yes           Electronic check           29.85        29.85   \n",
            "1               No               Mailed check           56.95       1889.5   \n",
            "2              Yes               Mailed check           53.85       108.15   \n",
            "3               No  Bank transfer (automatic)           42.30      1840.75   \n",
            "4              Yes           Electronic check           70.70       151.65   \n",
            "\n",
            "  Churn  \n",
            "0    No  \n",
            "1    No  \n",
            "2   Yes  \n",
            "3    No  \n",
            "4   Yes  \n",
            "(7043, 21)\n",
            "<class 'pandas.core.frame.DataFrame'>\n",
            "RangeIndex: 7043 entries, 0 to 7042\n",
            "Data columns (total 21 columns):\n",
            " #   Column            Non-Null Count  Dtype  \n",
            "---  ------            --------------  -----  \n",
            " 0   customerID        7043 non-null   object \n",
            " 1   gender            7043 non-null   object \n",
            " 2   SeniorCitizen     7043 non-null   int64  \n",
            " 3   Partner           7043 non-null   object \n",
            " 4   Dependents        7043 non-null   object \n",
            " 5   tenure            7043 non-null   int64  \n",
            " 6   PhoneService      7043 non-null   object \n",
            " 7   MultipleLines     7043 non-null   object \n",
            " 8   InternetService   7043 non-null   object \n",
            " 9   OnlineSecurity    7043 non-null   object \n",
            " 10  OnlineBackup      7043 non-null   object \n",
            " 11  DeviceProtection  7043 non-null   object \n",
            " 12  TechSupport       7043 non-null   object \n",
            " 13  StreamingTV       7043 non-null   object \n",
            " 14  StreamingMovies   7043 non-null   object \n",
            " 15  Contract          7043 non-null   object \n",
            " 16  PaperlessBilling  7043 non-null   object \n",
            " 17  PaymentMethod     7043 non-null   object \n",
            " 18  MonthlyCharges    7043 non-null   float64\n",
            " 19  TotalCharges      7043 non-null   object \n",
            " 20  Churn             7043 non-null   object \n",
            "dtypes: float64(1), int64(2), object(18)\n",
            "memory usage: 1.1+ MB\n",
            "None\n",
            "       SeniorCitizen       tenure  MonthlyCharges\n",
            "count    7043.000000  7043.000000     7043.000000\n",
            "mean        0.162147    32.371149       64.761692\n",
            "std         0.368612    24.559481       30.090047\n",
            "min         0.000000     0.000000       18.250000\n",
            "25%         0.000000     9.000000       35.500000\n",
            "50%         0.000000    29.000000       70.350000\n",
            "75%         0.000000    55.000000       89.850000\n",
            "max         1.000000    72.000000      118.750000\n"
          ],
          "name": "stdout"
        }
      ]
    },
    {
      "cell_type": "markdown",
      "metadata": {
        "id": "s9jX7cSpg9yl"
      },
      "source": [
        "Checking for Null values"
      ]
    },
    {
      "cell_type": "code",
      "metadata": {
        "colab": {
          "base_uri": "https://localhost:8080/"
        },
        "id": "qRVY-sJE1svy",
        "outputId": "741c9bba-0e03-4a55-bca3-35ca725bd12b"
      },
      "source": [
        "dataset.isnull().sum()"
      ],
      "execution_count": null,
      "outputs": [
        {
          "output_type": "execute_result",
          "data": {
            "text/plain": [
              "customerID          0\n",
              "gender              0\n",
              "SeniorCitizen       0\n",
              "Partner             0\n",
              "Dependents          0\n",
              "tenure              0\n",
              "PhoneService        0\n",
              "MultipleLines       0\n",
              "InternetService     0\n",
              "OnlineSecurity      0\n",
              "OnlineBackup        0\n",
              "DeviceProtection    0\n",
              "TechSupport         0\n",
              "StreamingTV         0\n",
              "StreamingMovies     0\n",
              "Contract            0\n",
              "PaperlessBilling    0\n",
              "PaymentMethod       0\n",
              "MonthlyCharges      0\n",
              "TotalCharges        0\n",
              "Churn               0\n",
              "dtype: int64"
            ]
          },
          "metadata": {
            "tags": []
          },
          "execution_count": 37
        }
      ]
    },
    {
      "cell_type": "markdown",
      "metadata": {
        "id": "26Qs7w9uhG1A"
      },
      "source": [
        "Printing all the column names"
      ]
    },
    {
      "cell_type": "code",
      "metadata": {
        "id": "e_YKORab1svy",
        "colab": {
          "base_uri": "https://localhost:8080/"
        },
        "outputId": "7c058789-96bf-49c9-c94f-4c3cce8c8ac4"
      },
      "source": [
        "dataset.columns"
      ],
      "execution_count": null,
      "outputs": [
        {
          "output_type": "execute_result",
          "data": {
            "text/plain": [
              "Index(['customerID', 'gender', 'SeniorCitizen', 'Partner', 'Dependents',\n",
              "       'tenure', 'PhoneService', 'MultipleLines', 'InternetService',\n",
              "       'OnlineSecurity', 'OnlineBackup', 'DeviceProtection', 'TechSupport',\n",
              "       'StreamingTV', 'StreamingMovies', 'Contract', 'PaperlessBilling',\n",
              "       'PaymentMethod', 'MonthlyCharges', 'TotalCharges', 'Churn'],\n",
              "      dtype='object')"
            ]
          },
          "metadata": {
            "tags": []
          },
          "execution_count": 38
        }
      ]
    },
    {
      "cell_type": "markdown",
      "metadata": {
        "id": "-AMF4ub_hOkT"
      },
      "source": [
        "Dropping Customer Id(identity) feature as it is not useful"
      ]
    },
    {
      "cell_type": "code",
      "metadata": {
        "colab": {
          "base_uri": "https://localhost:8080/",
          "height": 284
        },
        "id": "lJBHk_2I1svz",
        "outputId": "222a1eed-6865-4d65-d52a-2bf37afdd8da"
      },
      "source": [
        "dataset = dataset.drop('customerID', axis=1)\n",
        "dataset.head()"
      ],
      "execution_count": null,
      "outputs": [
        {
          "output_type": "execute_result",
          "data": {
            "text/html": [
              "<div>\n",
              "<style scoped>\n",
              "    .dataframe tbody tr th:only-of-type {\n",
              "        vertical-align: middle;\n",
              "    }\n",
              "\n",
              "    .dataframe tbody tr th {\n",
              "        vertical-align: top;\n",
              "    }\n",
              "\n",
              "    .dataframe thead th {\n",
              "        text-align: right;\n",
              "    }\n",
              "</style>\n",
              "<table border=\"1\" class=\"dataframe\">\n",
              "  <thead>\n",
              "    <tr style=\"text-align: right;\">\n",
              "      <th></th>\n",
              "      <th>gender</th>\n",
              "      <th>SeniorCitizen</th>\n",
              "      <th>Partner</th>\n",
              "      <th>Dependents</th>\n",
              "      <th>tenure</th>\n",
              "      <th>PhoneService</th>\n",
              "      <th>MultipleLines</th>\n",
              "      <th>InternetService</th>\n",
              "      <th>OnlineSecurity</th>\n",
              "      <th>OnlineBackup</th>\n",
              "      <th>DeviceProtection</th>\n",
              "      <th>TechSupport</th>\n",
              "      <th>StreamingTV</th>\n",
              "      <th>StreamingMovies</th>\n",
              "      <th>Contract</th>\n",
              "      <th>PaperlessBilling</th>\n",
              "      <th>PaymentMethod</th>\n",
              "      <th>MonthlyCharges</th>\n",
              "      <th>TotalCharges</th>\n",
              "      <th>Churn</th>\n",
              "    </tr>\n",
              "  </thead>\n",
              "  <tbody>\n",
              "    <tr>\n",
              "      <th>0</th>\n",
              "      <td>Female</td>\n",
              "      <td>0</td>\n",
              "      <td>Yes</td>\n",
              "      <td>No</td>\n",
              "      <td>1</td>\n",
              "      <td>No</td>\n",
              "      <td>No phone service</td>\n",
              "      <td>DSL</td>\n",
              "      <td>No</td>\n",
              "      <td>Yes</td>\n",
              "      <td>No</td>\n",
              "      <td>No</td>\n",
              "      <td>No</td>\n",
              "      <td>No</td>\n",
              "      <td>Month-to-month</td>\n",
              "      <td>Yes</td>\n",
              "      <td>Electronic check</td>\n",
              "      <td>29.85</td>\n",
              "      <td>29.85</td>\n",
              "      <td>No</td>\n",
              "    </tr>\n",
              "    <tr>\n",
              "      <th>1</th>\n",
              "      <td>Male</td>\n",
              "      <td>0</td>\n",
              "      <td>No</td>\n",
              "      <td>No</td>\n",
              "      <td>34</td>\n",
              "      <td>Yes</td>\n",
              "      <td>No</td>\n",
              "      <td>DSL</td>\n",
              "      <td>Yes</td>\n",
              "      <td>No</td>\n",
              "      <td>Yes</td>\n",
              "      <td>No</td>\n",
              "      <td>No</td>\n",
              "      <td>No</td>\n",
              "      <td>One year</td>\n",
              "      <td>No</td>\n",
              "      <td>Mailed check</td>\n",
              "      <td>56.95</td>\n",
              "      <td>1889.5</td>\n",
              "      <td>No</td>\n",
              "    </tr>\n",
              "    <tr>\n",
              "      <th>2</th>\n",
              "      <td>Male</td>\n",
              "      <td>0</td>\n",
              "      <td>No</td>\n",
              "      <td>No</td>\n",
              "      <td>2</td>\n",
              "      <td>Yes</td>\n",
              "      <td>No</td>\n",
              "      <td>DSL</td>\n",
              "      <td>Yes</td>\n",
              "      <td>Yes</td>\n",
              "      <td>No</td>\n",
              "      <td>No</td>\n",
              "      <td>No</td>\n",
              "      <td>No</td>\n",
              "      <td>Month-to-month</td>\n",
              "      <td>Yes</td>\n",
              "      <td>Mailed check</td>\n",
              "      <td>53.85</td>\n",
              "      <td>108.15</td>\n",
              "      <td>Yes</td>\n",
              "    </tr>\n",
              "    <tr>\n",
              "      <th>3</th>\n",
              "      <td>Male</td>\n",
              "      <td>0</td>\n",
              "      <td>No</td>\n",
              "      <td>No</td>\n",
              "      <td>45</td>\n",
              "      <td>No</td>\n",
              "      <td>No phone service</td>\n",
              "      <td>DSL</td>\n",
              "      <td>Yes</td>\n",
              "      <td>No</td>\n",
              "      <td>Yes</td>\n",
              "      <td>Yes</td>\n",
              "      <td>No</td>\n",
              "      <td>No</td>\n",
              "      <td>One year</td>\n",
              "      <td>No</td>\n",
              "      <td>Bank transfer (automatic)</td>\n",
              "      <td>42.30</td>\n",
              "      <td>1840.75</td>\n",
              "      <td>No</td>\n",
              "    </tr>\n",
              "    <tr>\n",
              "      <th>4</th>\n",
              "      <td>Female</td>\n",
              "      <td>0</td>\n",
              "      <td>No</td>\n",
              "      <td>No</td>\n",
              "      <td>2</td>\n",
              "      <td>Yes</td>\n",
              "      <td>No</td>\n",
              "      <td>Fiber optic</td>\n",
              "      <td>No</td>\n",
              "      <td>No</td>\n",
              "      <td>No</td>\n",
              "      <td>No</td>\n",
              "      <td>No</td>\n",
              "      <td>No</td>\n",
              "      <td>Month-to-month</td>\n",
              "      <td>Yes</td>\n",
              "      <td>Electronic check</td>\n",
              "      <td>70.70</td>\n",
              "      <td>151.65</td>\n",
              "      <td>Yes</td>\n",
              "    </tr>\n",
              "  </tbody>\n",
              "</table>\n",
              "</div>"
            ],
            "text/plain": [
              "   gender  SeniorCitizen Partner Dependents  tenure PhoneService  \\\n",
              "0  Female              0     Yes         No       1           No   \n",
              "1    Male              0      No         No      34          Yes   \n",
              "2    Male              0      No         No       2          Yes   \n",
              "3    Male              0      No         No      45           No   \n",
              "4  Female              0      No         No       2          Yes   \n",
              "\n",
              "      MultipleLines InternetService OnlineSecurity OnlineBackup  \\\n",
              "0  No phone service             DSL             No          Yes   \n",
              "1                No             DSL            Yes           No   \n",
              "2                No             DSL            Yes          Yes   \n",
              "3  No phone service             DSL            Yes           No   \n",
              "4                No     Fiber optic             No           No   \n",
              "\n",
              "  DeviceProtection TechSupport StreamingTV StreamingMovies        Contract  \\\n",
              "0               No          No          No              No  Month-to-month   \n",
              "1              Yes          No          No              No        One year   \n",
              "2               No          No          No              No  Month-to-month   \n",
              "3              Yes         Yes          No              No        One year   \n",
              "4               No          No          No              No  Month-to-month   \n",
              "\n",
              "  PaperlessBilling              PaymentMethod  MonthlyCharges TotalCharges  \\\n",
              "0              Yes           Electronic check           29.85        29.85   \n",
              "1               No               Mailed check           56.95       1889.5   \n",
              "2              Yes               Mailed check           53.85       108.15   \n",
              "3               No  Bank transfer (automatic)           42.30      1840.75   \n",
              "4              Yes           Electronic check           70.70       151.65   \n",
              "\n",
              "  Churn  \n",
              "0    No  \n",
              "1    No  \n",
              "2   Yes  \n",
              "3    No  \n",
              "4   Yes  "
            ]
          },
          "metadata": {
            "tags": []
          },
          "execution_count": 39
        }
      ]
    },
    {
      "cell_type": "markdown",
      "metadata": {
        "id": "uZa0fgi_heZD"
      },
      "source": [
        "Checking the count of columns"
      ]
    },
    {
      "cell_type": "code",
      "metadata": {
        "colab": {
          "base_uri": "https://localhost:8080/"
        },
        "id": "zXXRoQ_103Ry",
        "outputId": "09413897-7053-4f35-daca-d7fc0eebe1e6"
      },
      "source": [
        "dataset.shape"
      ],
      "execution_count": null,
      "outputs": [
        {
          "output_type": "execute_result",
          "data": {
            "text/plain": [
              "(7043, 20)"
            ]
          },
          "metadata": {
            "tags": []
          },
          "execution_count": 40
        }
      ]
    },
    {
      "cell_type": "markdown",
      "metadata": {
        "id": "vx0VXJXMhlvk"
      },
      "source": [
        "Data Exploration - Checking churn,Senior citizen ,Internet Service, Phone Service features"
      ]
    },
    {
      "cell_type": "code",
      "metadata": {
        "id": "GlR5ZU3S1sv0",
        "colab": {
          "base_uri": "https://localhost:8080/"
        },
        "outputId": "c8c52dd7-2d19-4312-c39c-71837605448c"
      },
      "source": [
        "dataset.loc[:, 'Churn'].value_counts()"
      ],
      "execution_count": null,
      "outputs": [
        {
          "output_type": "execute_result",
          "data": {
            "text/plain": [
              "No     5174\n",
              "Yes    1869\n",
              "Name: Churn, dtype: int64"
            ]
          },
          "metadata": {
            "tags": []
          },
          "execution_count": 41
        }
      ]
    },
    {
      "cell_type": "code",
      "metadata": {
        "colab": {
          "base_uri": "https://localhost:8080/"
        },
        "id": "bv3lWqcNxN9-",
        "outputId": "99ed3798-85ce-4792-a48a-706289c31e1f"
      },
      "source": [
        "dataset.loc[:, 'SeniorCitizen'].value_counts()"
      ],
      "execution_count": null,
      "outputs": [
        {
          "output_type": "execute_result",
          "data": {
            "text/plain": [
              "0    5901\n",
              "1    1142\n",
              "Name: SeniorCitizen, dtype: int64"
            ]
          },
          "metadata": {
            "tags": []
          },
          "execution_count": 43
        }
      ]
    },
    {
      "cell_type": "code",
      "metadata": {
        "colab": {
          "base_uri": "https://localhost:8080/"
        },
        "id": "MWcI_IJOxOkT",
        "outputId": "dcdcde83-8e90-4fcb-8448-8b79d94508d3"
      },
      "source": [
        "dataset.loc[:, 'InternetService'].value_counts()"
      ],
      "execution_count": null,
      "outputs": [
        {
          "output_type": "execute_result",
          "data": {
            "text/plain": [
              "Fiber optic    3096\n",
              "DSL            2421\n",
              "No             1526\n",
              "Name: InternetService, dtype: int64"
            ]
          },
          "metadata": {
            "tags": []
          },
          "execution_count": 44
        }
      ]
    },
    {
      "cell_type": "code",
      "metadata": {
        "colab": {
          "base_uri": "https://localhost:8080/"
        },
        "id": "vFDnb7uxxUYK",
        "outputId": "81344538-a75a-4fb5-8393-060764c0a6e8"
      },
      "source": [
        "dataset.loc[:, 'PhoneService'].value_counts()"
      ],
      "execution_count": null,
      "outputs": [
        {
          "output_type": "execute_result",
          "data": {
            "text/plain": [
              "Yes    6361\n",
              "No      682\n",
              "Name: PhoneService, dtype: int64"
            ]
          },
          "metadata": {
            "tags": []
          },
          "execution_count": 45
        }
      ]
    },
    {
      "cell_type": "markdown",
      "metadata": {
        "id": "STc5czwtnSiY"
      },
      "source": [
        "Plotting correalation heatmap of numeric features"
      ]
    },
    {
      "cell_type": "code",
      "metadata": {
        "colab": {
          "base_uri": "https://localhost:8080/",
          "height": 311
        },
        "id": "LIVdvvmLyEKe",
        "outputId": "5f8411b1-0fbd-4c2f-e6c9-cc8e13c2f706"
      },
      "source": [
        "plt.figure()\r\n",
        "Corr=dataset[dataset.columns].corr()\r\n",
        "sns.heatmap(Corr,annot=True)"
      ],
      "execution_count": null,
      "outputs": [
        {
          "output_type": "execute_result",
          "data": {
            "text/plain": [
              "<matplotlib.axes._subplots.AxesSubplot at 0x7f9a3086cda0>"
            ]
          },
          "metadata": {
            "tags": []
          },
          "execution_count": 46
        },
        {
          "output_type": "display_data",
          "data": {
            "image/png": "[encoded data removed]",
            "text/plain": [
              "<Figure size 432x288 with 2 Axes>"
            ]
          },
          "metadata": {
            "tags": [],
            "needs_background": "light"
          }
        }
      ]
    },
    {
      "cell_type": "markdown",
      "metadata": {
        "id": "Lz_BXebfnlNM"
      },
      "source": [
        "converting the non-numeric data into numeric data."
      ]
    },
    {
      "cell_type": "code",
      "metadata": {
        "colab": {
          "base_uri": "https://localhost:8080/",
          "height": 217
        },
        "id": "mWWf9w3hyP1Q",
        "outputId": "bd8eac05-8746-45e2-ca96-48c5b4e2e790"
      },
      "source": [
        "# converting the non-numeric data into numeric data.\r\n",
        "from sklearn.preprocessing import LabelEncoder\r\n",
        "dataset1 = dataset.apply(lambda x: LabelEncoder().fit_transform(x) if x.dtype == 'object' else x)\r\n",
        "dataset1.head()"
      ],
      "execution_count": null,
      "outputs": [
        {
          "output_type": "execute_result",
          "data": {
            "text/html": [
              "<div>\n",
              "<style scoped>\n",
              "    .dataframe tbody tr th:only-of-type {\n",
              "        vertical-align: middle;\n",
              "    }\n",
              "\n",
              "    .dataframe tbody tr th {\n",
              "        vertical-align: top;\n",
              "    }\n",
              "\n",
              "    .dataframe thead th {\n",
              "        text-align: right;\n",
              "    }\n",
              "</style>\n",
              "<table border=\"1\" class=\"dataframe\">\n",
              "  <thead>\n",
              "    <tr style=\"text-align: right;\">\n",
              "      <th></th>\n",
              "      <th>gender</th>\n",
              "      <th>SeniorCitizen</th>\n",
              "      <th>Partner</th>\n",
              "      <th>Dependents</th>\n",
              "      <th>tenure</th>\n",
              "      <th>PhoneService</th>\n",
              "      <th>MultipleLines</th>\n",
              "      <th>InternetService</th>\n",
              "      <th>OnlineSecurity</th>\n",
              "      <th>OnlineBackup</th>\n",
              "      <th>DeviceProtection</th>\n",
              "      <th>TechSupport</th>\n",
              "      <th>StreamingTV</th>\n",
              "      <th>StreamingMovies</th>\n",
              "      <th>Contract</th>\n",
              "      <th>PaperlessBilling</th>\n",
              "      <th>PaymentMethod</th>\n",
              "      <th>MonthlyCharges</th>\n",
              "      <th>TotalCharges</th>\n",
              "      <th>Churn</th>\n",
              "    </tr>\n",
              "  </thead>\n",
              "  <tbody>\n",
              "    <tr>\n",
              "      <th>0</th>\n",
              "      <td>0</td>\n",
              "      <td>0</td>\n",
              "      <td>1</td>\n",
              "      <td>0</td>\n",
              "      <td>1</td>\n",
              "      <td>0</td>\n",
              "      <td>1</td>\n",
              "      <td>0</td>\n",
              "      <td>0</td>\n",
              "      <td>2</td>\n",
              "      <td>0</td>\n",
              "      <td>0</td>\n",
              "      <td>0</td>\n",
              "      <td>0</td>\n",
              "      <td>0</td>\n",
              "      <td>1</td>\n",
              "      <td>2</td>\n",
              "      <td>29.85</td>\n",
              "      <td>2505</td>\n",
              "      <td>0</td>\n",
              "    </tr>\n",
              "    <tr>\n",
              "      <th>1</th>\n",
              "      <td>1</td>\n",
              "      <td>0</td>\n",
              "      <td>0</td>\n",
              "      <td>0</td>\n",
              "      <td>34</td>\n",
              "      <td>1</td>\n",
              "      <td>0</td>\n",
              "      <td>0</td>\n",
              "      <td>2</td>\n",
              "      <td>0</td>\n",
              "      <td>2</td>\n",
              "      <td>0</td>\n",
              "      <td>0</td>\n",
              "      <td>0</td>\n",
              "      <td>1</td>\n",
              "      <td>0</td>\n",
              "      <td>3</td>\n",
              "      <td>56.95</td>\n",
              "      <td>1466</td>\n",
              "      <td>0</td>\n",
              "    </tr>\n",
              "    <tr>\n",
              "      <th>2</th>\n",
              "      <td>1</td>\n",
              "      <td>0</td>\n",
              "      <td>0</td>\n",
              "      <td>0</td>\n",
              "      <td>2</td>\n",
              "      <td>1</td>\n",
              "      <td>0</td>\n",
              "      <td>0</td>\n",
              "      <td>2</td>\n",
              "      <td>2</td>\n",
              "      <td>0</td>\n",
              "      <td>0</td>\n",
              "      <td>0</td>\n",
              "      <td>0</td>\n",
              "      <td>0</td>\n",
              "      <td>1</td>\n",
              "      <td>3</td>\n",
              "      <td>53.85</td>\n",
              "      <td>157</td>\n",
              "      <td>1</td>\n",
              "    </tr>\n",
              "    <tr>\n",
              "      <th>3</th>\n",
              "      <td>1</td>\n",
              "      <td>0</td>\n",
              "      <td>0</td>\n",
              "      <td>0</td>\n",
              "      <td>45</td>\n",
              "      <td>0</td>\n",
              "      <td>1</td>\n",
              "      <td>0</td>\n",
              "      <td>2</td>\n",
              "      <td>0</td>\n",
              "      <td>2</td>\n",
              "      <td>2</td>\n",
              "      <td>0</td>\n",
              "      <td>0</td>\n",
              "      <td>1</td>\n",
              "      <td>0</td>\n",
              "      <td>0</td>\n",
              "      <td>42.30</td>\n",
              "      <td>1400</td>\n",
              "      <td>0</td>\n",
              "    </tr>\n",
              "    <tr>\n",
              "      <th>4</th>\n",
              "      <td>0</td>\n",
              "      <td>0</td>\n",
              "      <td>0</td>\n",
              "      <td>0</td>\n",
              "      <td>2</td>\n",
              "      <td>1</td>\n",
              "      <td>0</td>\n",
              "      <td>1</td>\n",
              "      <td>0</td>\n",
              "      <td>0</td>\n",
              "      <td>0</td>\n",
              "      <td>0</td>\n",
              "      <td>0</td>\n",
              "      <td>0</td>\n",
              "      <td>0</td>\n",
              "      <td>1</td>\n",
              "      <td>2</td>\n",
              "      <td>70.70</td>\n",
              "      <td>925</td>\n",
              "      <td>1</td>\n",
              "    </tr>\n",
              "  </tbody>\n",
              "</table>\n",
              "</div>"
            ],
            "text/plain": [
              "   gender  SeniorCitizen  Partner  Dependents  tenure  PhoneService  \\\n",
              "0       0              0        1           0       1             0   \n",
              "1       1              0        0           0      34             1   \n",
              "2       1              0        0           0       2             1   \n",
              "3       1              0        0           0      45             0   \n",
              "4       0              0        0           0       2             1   \n",
              "\n",
              "   MultipleLines  InternetService  OnlineSecurity  OnlineBackup  \\\n",
              "0              1                0               0             2   \n",
              "1              0                0               2             0   \n",
              "2              0                0               2             2   \n",
              "3              1                0               2             0   \n",
              "4              0                1               0             0   \n",
              "\n",
              "   DeviceProtection  TechSupport  StreamingTV  StreamingMovies  Contract  \\\n",
              "0                 0            0            0                0         0   \n",
              "1                 2            0            0                0         1   \n",
              "2                 0            0            0                0         0   \n",
              "3                 2            2            0                0         1   \n",
              "4                 0            0            0                0         0   \n",
              "\n",
              "   PaperlessBilling  PaymentMethod  MonthlyCharges  TotalCharges  Churn  \n",
              "0                 1              2           29.85          2505      0  \n",
              "1                 0              3           56.95          1466      0  \n",
              "2                 1              3           53.85           157      1  \n",
              "3                 0              0           42.30          1400      0  \n",
              "4                 1              2           70.70           925      1  "
            ]
          },
          "metadata": {
            "tags": []
          },
          "execution_count": 47
        }
      ]
    },
    {
      "cell_type": "markdown",
      "metadata": {
        "id": "9daJelY9ns1c"
      },
      "source": [
        "plotting heat map for all the feature to check Correlation"
      ]
    },
    {
      "cell_type": "code",
      "metadata": {
        "colab": {
          "base_uri": "https://localhost:8080/",
          "height": 1000
        },
        "id": "FAy9bDChye2x",
        "outputId": "cccf65c0-5e4c-4302-a3d8-e054cf64c980"
      },
      "source": [
        "plt.figure(figsize =(20,20))\r\n",
        "Corr=dataset1[dataset1.columns].corr()\r\n",
        "sns.heatmap(Corr,annot=True)"
      ],
      "execution_count": null,
      "outputs": [
        {
          "output_type": "execute_result",
          "data": {
            "text/plain": [
              "<matplotlib.axes._subplots.AxesSubplot at 0x7f9a3086ceb8>"
            ]
          },
          "metadata": {
            "tags": []
          },
          "execution_count": 48
        },
        {
          "output_type": "display_data",
          "data": {
            "image/png": "[encoded data removed]",
            "text/plain": [
              "<Figure size 1440x1440 with 2 Axes>"
            ]
          },
          "metadata": {
            "tags": [],
            "needs_background": "light"
          }
        }
      ]
    },
    {
      "cell_type": "markdown",
      "metadata": {
        "id": "JbHzRG9Ln-Od"
      },
      "source": [
        "Deviding the dataset into feature and taget label"
      ]
    },
    {
      "cell_type": "code",
      "metadata": {
        "colab": {
          "base_uri": "https://localhost:8080/"
        },
        "id": "z1SAqg1K1sv4",
        "outputId": "c11fc136-83dd-48cb-955f-9f84c4022fed"
      },
      "source": [
        "# Dividing dataset into label and feature sets\n",
        "X = dataset1.drop(['Churn'], axis = 1) # Features\n",
        "Y = dataset1['Churn'] # Labels\n",
        "print(type(X))\n",
        "print(type(Y))\n",
        "print(X.shape)\n",
        "print(Y.shape)"
      ],
      "execution_count": null,
      "outputs": [
        {
          "output_type": "stream",
          "text": [
            "<class 'pandas.core.frame.DataFrame'>\n",
            "<class 'pandas.core.series.Series'>\n",
            "(7043, 19)\n",
            "(7043,)\n"
          ],
          "name": "stdout"
        }
      ]
    },
    {
      "cell_type": "markdown",
      "metadata": {
        "id": "oTbyhp3koN4A"
      },
      "source": [
        "Normalizing numerical features"
      ]
    },
    {
      "cell_type": "code",
      "metadata": {
        "id": "0xruuW4u1sv5"
      },
      "source": [
        "# Normalizing numerical features so that each feature has mean 0 and variance 1\n",
        "feature_scaler = StandardScaler()\n",
        "X_scaled = feature_scaler.fit_transform(X)"
      ],
      "execution_count": null,
      "outputs": []
    },
    {
      "cell_type": "markdown",
      "metadata": {
        "id": "2_j3OtFGoTBg"
      },
      "source": [
        "Dividing the datset into Train and Test sets"
      ]
    },
    {
      "cell_type": "code",
      "metadata": {
        "id": "IeqIeeOj1sv5"
      },
      "source": [
        "# Dividing dataset into training and test sets\n",
        "X_train, X_test, Y_train, Y_test = train_test_split( X_scaled, Y, test_size = 0.3, random_state = 100)"
      ],
      "execution_count": null,
      "outputs": []
    },
    {
      "cell_type": "markdown",
      "metadata": {
        "id": "T2ZUtuWjoa-X"
      },
      "source": [
        "Checking the shape to check number of columns and instances"
      ]
    },
    {
      "cell_type": "code",
      "metadata": {
        "colab": {
          "base_uri": "https://localhost:8080/"
        },
        "id": "4y_MKBDa1sv5",
        "outputId": "65d05de4-ed84-4944-ae76-0c4dfaad7497"
      },
      "source": [
        "print(X_train.shape)\n",
        "print(X_test.shape)"
      ],
      "execution_count": null,
      "outputs": [
        {
          "output_type": "stream",
          "text": [
            "(4930, 19)\n",
            "(2113, 19)\n"
          ],
          "name": "stdout"
        }
      ]
    },
    {
      "cell_type": "markdown",
      "metadata": {
        "id": "jhenZE9Roipe"
      },
      "source": [
        "Implementing SMOTE for oversampling"
      ]
    },
    {
      "cell_type": "code",
      "metadata": {
        "colab": {
          "base_uri": "https://localhost:8080/"
        },
        "id": "eIVARWUM1sv5",
        "outputId": "c7952e68-1868-48be-cfb6-560ca237d582"
      },
      "source": [
        "# Implementing Oversampling to balance the dataset; SMOTE stands for Synthetic Minority Oversampling TEchnique\n",
        "print(\"Number of observations in each class before oversampling (training data): \\n\", pd.Series(Y_train).value_counts())\n",
        "smote = SMOTE(random_state = 101)\n",
        "X_train,Y_train = smote.fit_sample(X_train,Y_train)"
      ],
      "execution_count": null,
      "outputs": [
        {
          "output_type": "stream",
          "text": [
            "Number of observations in each class before oversampling (training data): \n",
            " 0    3627\n",
            "1    1303\n",
            "Name: Churn, dtype: int64\n"
          ],
          "name": "stdout"
        },
        {
          "output_type": "stream",
          "text": [
            "/usr/local/lib/python3.6/dist-packages/sklearn/utils/deprecation.py:87: FutureWarning:\n",
            "\n",
            "Function safe_indexing is deprecated; safe_indexing is deprecated in version 0.22 and will be removed in version 0.24.\n",
            "\n"
          ],
          "name": "stderr"
        }
      ]
    },
    {
      "cell_type": "code",
      "metadata": {
        "colab": {
          "base_uri": "https://localhost:8080/"
        },
        "id": "HRMCw5Q61sv6",
        "outputId": "306165fd-9ddd-4397-8347-2b825ffb5566"
      },
      "source": [
        "print(\"Number of observations in each class after oversampling (training data): \\n\", pd.Series(Y_train).value_counts())"
      ],
      "execution_count": null,
      "outputs": [
        {
          "output_type": "stream",
          "text": [
            "Number of observations in each class after oversampling (training data): \n",
            " 1    3627\n",
            "0    3627\n",
            "dtype: int64\n"
          ],
          "name": "stdout"
        }
      ]
    },
    {
      "cell_type": "markdown",
      "metadata": {
        "id": "U764ZZsboo8e"
      },
      "source": [
        "Random Forest Classifier implementation and its Grid search input values"
      ]
    },
    {
      "cell_type": "code",
      "metadata": {
        "id": "H4aH2bZk1sv6"
      },
      "source": [
        "rfc = RandomForestClassifier(criterion='entropy', max_features='auto', random_state=1)\n",
        "grid_param = {'n_estimators': [300,350,400, 450, 500, 550, 600, 650, 700, 750, 800]}\n",
        "\n",
        "gd_sr = GridSearchCV(estimator=rfc, param_grid=grid_param, scoring='recall', cv=5)"
      ],
      "execution_count": null,
      "outputs": []
    },
    {
      "cell_type": "markdown",
      "metadata": {
        "id": "imGO6wOEo00X"
      },
      "source": [
        "Fitting the model"
      ]
    },
    {
      "cell_type": "code",
      "metadata": {
        "colab": {
          "base_uri": "https://localhost:8080/"
        },
        "id": "bNgf-vqG1sv6",
        "outputId": "a6340634-5ae0-4232-e07c-022dd95887b8"
      },
      "source": [
        "gd_sr.fit(X_train, Y_train)"
      ],
      "execution_count": null,
      "outputs": [
        {
          "output_type": "execute_result",
          "data": {
            "text/plain": [
              "GridSearchCV(cv=5, error_score=nan,\n",
              "             estimator=RandomForestClassifier(bootstrap=True, ccp_alpha=0.0,\n",
              "                                              class_weight=None,\n",
              "                                              criterion='entropy',\n",
              "                                              max_depth=None,\n",
              "                                              max_features='auto',\n",
              "                                              max_leaf_nodes=None,\n",
              "                                              max_samples=None,\n",
              "                                              min_impurity_decrease=0.0,\n",
              "                                              min_impurity_split=None,\n",
              "                                              min_samples_leaf=1,\n",
              "                                              min_samples_split=2,\n",
              "                                              min_weight_fraction_leaf=0.0,\n",
              "                                              n_estimators=100, n_jobs=None,\n",
              "                                              oob_score=False, random_state=1,\n",
              "                                              verbose=0, warm_start=False),\n",
              "             iid='deprecated', n_jobs=None,\n",
              "             param_grid={'n_estimators': [300, 350, 400, 450, 500, 550, 600,\n",
              "                                          650, 700, 750, 800]},\n",
              "             pre_dispatch='2*n_jobs', refit=True, return_train_score=False,\n",
              "             scoring='recall', verbose=0)"
            ]
          },
          "metadata": {
            "tags": []
          },
          "execution_count": 57
        }
      ]
    },
    {
      "cell_type": "markdown",
      "metadata": {
        "id": "pZFpF0yio8S1"
      },
      "source": [
        "Printing Best Paramters"
      ]
    },
    {
      "cell_type": "code",
      "metadata": {
        "colab": {
          "base_uri": "https://localhost:8080/"
        },
        "id": "QOZ-H-Cm1sv7",
        "outputId": "a31487c9-c041-4be4-9148-6669bb4b3e72"
      },
      "source": [
        "best_parameters = gd_sr.best_params_\n",
        "print(best_parameters)"
      ],
      "execution_count": null,
      "outputs": [
        {
          "output_type": "stream",
          "text": [
            "{'n_estimators': 800}\n"
          ],
          "name": "stdout"
        }
      ]
    },
    {
      "cell_type": "code",
      "metadata": {
        "colab": {
          "base_uri": "https://localhost:8080/"
        },
        "id": "uoXoNN4J1sv7",
        "outputId": "11b9c08b-1be0-4c67-d89f-d957c9884092"
      },
      "source": [
        "best_result = gd_sr.best_score_ # Mean cross-validated score of the best_estimator\n",
        "print(best_result)\n",
        "print(type(best_result))"
      ],
      "execution_count": null,
      "outputs": [
        {
          "output_type": "stream",
          "text": [
            "0.8642906811057282\n",
            "<class 'numpy.float64'>\n"
          ],
          "name": "stdout"
        }
      ]
    },
    {
      "cell_type": "markdown",
      "metadata": {
        "id": "l77bskIBpRm6"
      },
      "source": [
        "Running the RF model for optimal parameter obtained"
      ]
    },
    {
      "cell_type": "code",
      "metadata": {
        "colab": {
          "base_uri": "https://localhost:8080/"
        },
        "id": "UEp9RvIVH5VV",
        "outputId": "e3784c5a-2f73-465c-d1b7-161150252463"
      },
      "source": [
        "rfc = RandomForestClassifier(n_estimators=800, criterion='entropy', max_features='auto', random_state=5)\r\n",
        "rfc.fit(X_train,Y_train)\r\n",
        "rfc_pred = rfc.predict(X_test)\r\n",
        "print(confusion_matrix(Y_test, rfc_pred))\r\n",
        "print('Accuracy score:',accuracy_score(Y_test, rfc_pred))\r\n",
        "print(classification_report(Y_test, rfc_pred))"
      ],
      "execution_count": null,
      "outputs": [
        {
          "output_type": "stream",
          "text": [
            "[[1308  239]\n",
            " [ 229  337]]\n",
            "Accuracy score: 0.7785139611926172\n",
            "              precision    recall  f1-score   support\n",
            "\n",
            "           0       0.85      0.85      0.85      1547\n",
            "           1       0.59      0.60      0.59       566\n",
            "\n",
            "    accuracy                           0.78      2113\n",
            "   macro avg       0.72      0.72      0.72      2113\n",
            "weighted avg       0.78      0.78      0.78      2113\n",
            "\n"
          ],
          "name": "stdout"
        }
      ]
    },
    {
      "cell_type": "markdown",
      "metadata": {
        "id": "45qGkeqopcpN"
      },
      "source": [
        "Printing feature importance graph"
      ]
    },
    {
      "cell_type": "code",
      "metadata": {
        "colab": {
          "base_uri": "https://localhost:8080/",
          "height": 442
        },
        "id": "wQwH39KL1sv7",
        "outputId": "4c57c448-a3ee-49b4-d0a9-0cc3be2429e2"
      },
      "source": [
        "featimp = pd.Series(rfc.feature_importances_, index=list(X)).sort_values(ascending=False)\n",
        "\n",
        "plt.figure(figsize=(12,7))\n",
        "sns.barplot(x= featimp.values, y = featimp.index, palette='deep')\n",
        "plt.xlabel('Feature importance')\n",
        "plt.show()"
      ],
      "execution_count": null,
      "outputs": [
        {
          "output_type": "display_data",
          "data": {
            "image/png": "[encoded data removed]",
            "text/plain": [
              "<Figure size 864x504 with 1 Axes>"
            ]
          },
          "metadata": {
            "tags": [],
            "needs_background": "light"
          }
        }
      ]
    },
    {
      "cell_type": "markdown",
      "metadata": {
        "id": "eQqvriENpl0_"
      },
      "source": [
        "Printing Feature Importance List"
      ]
    },
    {
      "cell_type": "code",
      "metadata": {
        "colab": {
          "base_uri": "https://localhost:8080/"
        },
        "id": "2cdkbABf0RiD",
        "outputId": "c6256f7c-8359-42d8-c770-cb3c9843ffb7"
      },
      "source": [
        "featimp = pd.Series(rfc.feature_importances_, index=list(X)).sort_values(ascending=False)\r\n",
        "print(featimp)"
      ],
      "execution_count": null,
      "outputs": [
        {
          "output_type": "stream",
          "text": [
            "tenure              0.146498\n",
            "MonthlyCharges      0.138954\n",
            "Contract            0.133511\n",
            "TotalCharges        0.125099\n",
            "PaymentMethod       0.075372\n",
            "TechSupport         0.060735\n",
            "OnlineSecurity      0.047561\n",
            "InternetService     0.035406\n",
            "PaperlessBilling    0.031300\n",
            "OnlineBackup        0.029196\n",
            "gender              0.028473\n",
            "Partner             0.024839\n",
            "MultipleLines       0.023732\n",
            "Dependents          0.021794\n",
            "DeviceProtection    0.021424\n",
            "StreamingMovies     0.017821\n",
            "SeniorCitizen       0.016795\n",
            "StreamingTV         0.016408\n",
            "PhoneService        0.005081\n",
            "dtype: float64\n"
          ],
          "name": "stdout"
        }
      ]
    },
    {
      "cell_type": "markdown",
      "metadata": {
        "id": "AIZ2Qnbfp0wT"
      },
      "source": [
        "Plotting RF Confusion Matrix"
      ]
    },
    {
      "cell_type": "code",
      "metadata": {
        "colab": {
          "base_uri": "https://localhost:8080/",
          "height": 528
        },
        "id": "uzyBSyvHHQpk",
        "outputId": "b2317ef3-934a-4009-8319-cb0b21d04a94"
      },
      "source": [
        "Y_pred = rfc.predict(X_test)\r\n",
        "conf_mat = metrics.confusion_matrix(Y_test, Y_pred)\r\n",
        "plt.figure(figsize=(8,6))\r\n",
        "sns.heatmap(conf_mat,annot=True)\r\n",
        "plt.title(\"Confusion_matrix\")\r\n",
        "plt.xlabel(\"Predicted Class\")\r\n",
        "plt.ylabel(\"Actual class\")\r\n",
        "plt.show()\r\n",
        "print('Confusion matrix: \\n', conf_mat)\r\n",
        "print('TP: ', conf_mat[1,1])\r\n",
        "print('TN: ', conf_mat[0,0])\r\n",
        "print('FP: ', conf_mat[0,1])\r\n",
        "print('FN: ', conf_mat[1,0])"
      ],
      "execution_count": null,
      "outputs": [
        {
          "output_type": "display_data",
          "data": {
            "image/png": "[encoded data removed]",
            "text/plain": [
              "<Figure size 576x432 with 2 Axes>"
            ]
          },
          "metadata": {
            "tags": [],
            "needs_background": "light"
          }
        },
        {
          "output_type": "stream",
          "text": [
            "Confusion matrix: \n",
            " [[1308  239]\n",
            " [ 229  337]]\n",
            "TP:  337\n",
            "TN:  1308\n",
            "FP:  239\n",
            "FN:  229\n"
          ],
          "name": "stdout"
        }
      ]
    },
    {
      "cell_type": "markdown",
      "metadata": {
        "id": "lmmEwFh4p-Ds"
      },
      "source": [
        "SVC Classifier and defining Grid Search Hyperparamters"
      ]
    },
    {
      "cell_type": "code",
      "metadata": {
        "id": "_tZp0ZYLrIlJ"
      },
      "source": [
        "from sklearn.svm import SVC \r\n",
        "svc = SVC(random_state=1)\r\n",
        "grid_param = {'C': [0.1, 1, 10, 25, 50, 100, 1000]}\r\n",
        "gd_sr_sv = GridSearchCV(estimator=svc, param_grid=grid_param, scoring='recall', cv=5)"
      ],
      "execution_count": null,
      "outputs": []
    },
    {
      "cell_type": "markdown",
      "metadata": {
        "id": "x3P4LnMsqGQK"
      },
      "source": [
        "Fitting the model"
      ]
    },
    {
      "cell_type": "code",
      "metadata": {
        "colab": {
          "base_uri": "https://localhost:8080/"
        },
        "id": "bXIDlGEasp3V",
        "outputId": "4a966dd1-2db2-422b-b704-f4220b7b9ee5"
      },
      "source": [
        "gd_sr_sv.fit(X_train, Y_train)"
      ],
      "execution_count": null,
      "outputs": [
        {
          "output_type": "execute_result",
          "data": {
            "text/plain": [
              "GridSearchCV(cv=5, error_score=nan,\n",
              "             estimator=SVC(C=1.0, break_ties=False, cache_size=200,\n",
              "                           class_weight=None, coef0=0.0,\n",
              "                           decision_function_shape='ovr', degree=3,\n",
              "                           gamma='scale', kernel='rbf', max_iter=-1,\n",
              "                           probability=False, random_state=1, shrinking=True,\n",
              "                           tol=0.001, verbose=False),\n",
              "             iid='deprecated', n_jobs=None,\n",
              "             param_grid={'C': [0.1, 1, 10, 25, 50, 100, 1000]},\n",
              "             pre_dispatch='2*n_jobs', refit=True, return_train_score=False,\n",
              "             scoring='recall', verbose=0)"
            ]
          },
          "metadata": {
            "tags": []
          },
          "execution_count": 31
        }
      ]
    },
    {
      "cell_type": "markdown",
      "metadata": {
        "id": "TlPbhz9UqNoL"
      },
      "source": [
        "Printing SVC Best Parameters"
      ]
    },
    {
      "cell_type": "code",
      "metadata": {
        "colab": {
          "base_uri": "https://localhost:8080/"
        },
        "id": "ZxjFC8GatGG7",
        "outputId": "673dacc9-7d96-4cc7-f800-6078f338ea33"
      },
      "source": [
        "best_parameters_svc = gd_sr_sv.best_params_\r\n",
        "print(best_parameters_svc)"
      ],
      "execution_count": null,
      "outputs": [
        {
          "output_type": "stream",
          "text": [
            "{'C': 25}\n"
          ],
          "name": "stdout"
        }
      ]
    },
    {
      "cell_type": "code",
      "metadata": {
        "colab": {
          "base_uri": "https://localhost:8080/"
        },
        "id": "CXEG2Cxgtd-F",
        "outputId": "da29aec8-8f20-43d3-c4ac-fec8ea682580"
      },
      "source": [
        "best_result = gd_sr_sv.best_score_ # Mean cross-validated score of the best_estimator\r\n",
        "print(best_result)\r\n",
        "print(type(best_result))"
      ],
      "execution_count": null,
      "outputs": [
        {
          "output_type": "stream",
          "text": [
            "0.8830553814002091\n",
            "<class 'numpy.float64'>\n"
          ],
          "name": "stdout"
        }
      ]
    },
    {
      "cell_type": "markdown",
      "metadata": {
        "id": "3QNlMtF0qWti"
      },
      "source": [
        "Running the SVC Model for optimal values from Grid Search"
      ]
    },
    {
      "cell_type": "code",
      "metadata": {
        "id": "Upd5FjYRt0IH"
      },
      "source": [
        "svc = SVC(C=25, random_state=1)"
      ],
      "execution_count": null,
      "outputs": []
    },
    {
      "cell_type": "markdown",
      "metadata": {
        "id": "Fmu9k_NJqgrc"
      },
      "source": [
        "Printing Accuracy, Confusion matrix and Classification Report"
      ]
    },
    {
      "cell_type": "code",
      "metadata": {
        "colab": {
          "base_uri": "https://localhost:8080/"
        },
        "id": "PRo-ySgKuJ2z",
        "outputId": "4bed9aed-9328-4bbd-a230-34ca44e03e9d"
      },
      "source": [
        "svc.fit(X_train,Y_train)\r\n",
        "svc_pred = svc.predict(X_test)\r\n",
        "print(confusion_matrix(Y_test,svc_pred))\r\n",
        "print('accuracy_score:',accuracy_score(Y_test, svc_pred))\r\n",
        "print(classification_report(Y_test, svc_pred))"
      ],
      "execution_count": null,
      "outputs": [
        {
          "output_type": "stream",
          "text": [
            "[[1222  325]\n",
            " [ 223  343]]\n",
            "accuracy_score: 0.7406530998580217\n",
            "              precision    recall  f1-score   support\n",
            "\n",
            "           0       0.85      0.79      0.82      1547\n",
            "           1       0.51      0.61      0.56       566\n",
            "\n",
            "    accuracy                           0.74      2113\n",
            "   macro avg       0.68      0.70      0.69      2113\n",
            "weighted avg       0.76      0.74      0.75      2113\n",
            "\n"
          ],
          "name": "stdout"
        }
      ]
    },
    {
      "cell_type": "markdown",
      "metadata": {
        "id": "b6ZfFZCJqsBj"
      },
      "source": [
        "plotting SVC Confusion Matrix"
      ]
    },
    {
      "cell_type": "code",
      "metadata": {
        "colab": {
          "base_uri": "https://localhost:8080/",
          "height": 523
        },
        "id": "xEZKs2VVHVxT",
        "outputId": "5a03aefd-f181-4eb5-e8f0-e48ae74bc7ef"
      },
      "source": [
        "svc_pred = svc.predict(X_test)\r\n",
        "conf_mat = metrics.confusion_matrix(Y_test, svc_pred)\r\n",
        "plt.figure(figsize=(8,6))\r\n",
        "sns.heatmap(conf_mat,annot=True)\r\n",
        "plt.title(\"Confusion_matrix\")\r\n",
        "plt.xlabel(\"Predicted Class\")\r\n",
        "plt.ylabel(\"Actual class\")\r\n",
        "plt.show()\r\n",
        "print('Confusion matrix: \\n', conf_mat)\r\n",
        "print('TP: ', conf_mat[1,1])\r\n",
        "print('TN: ', conf_mat[0,0])\r\n",
        "print('FP: ', conf_mat[0,1])\r\n",
        "print('FN: ', conf_mat[1,0])"
      ],
      "execution_count": null,
      "outputs": [
        {
          "output_type": "display_data",
          "data": {
            "image/png": "[encoded data removed]",
            "text/plain": [
              "<Figure size 576x432 with 2 Axes>"
            ]
          },
          "metadata": {
            "tags": [],
            "needs_background": "light"
          }
        },
        {
          "output_type": "stream",
          "text": [
            "Confusion matrix: \n",
            " [[1222  325]\n",
            " [ 223  343]]\n",
            "TP:  343\n",
            "TN:  1222\n",
            "FP:  325\n",
            "FN:  223\n"
          ],
          "name": "stdout"
        }
      ]
    },
    {
      "cell_type": "markdown",
      "metadata": {
        "id": "gdiq9q14qzn2"
      },
      "source": [
        "KNN classifier"
      ]
    },
    {
      "cell_type": "code",
      "metadata": {
        "colab": {
          "base_uri": "https://localhost:8080/"
        },
        "id": "_iyvbVZm1sv7",
        "outputId": "91df9b6d-745d-45ce-9b95-bdc27d328820"
      },
      "source": [
        "classifier = KNeighborsClassifier(n_neighbors=4, metric = 'minkowski', p = 2)\n",
        "classifier.fit(X_train, Y_train)"
      ],
      "execution_count": null,
      "outputs": [
        {
          "output_type": "execute_result",
          "data": {
            "text/plain": [
              "KNeighborsClassifier(algorithm='auto', leaf_size=30, metric='minkowski',\n",
              "                     metric_params=None, n_jobs=None, n_neighbors=4, p=2,\n",
              "                     weights='uniform')"
            ]
          },
          "metadata": {
            "tags": []
          },
          "execution_count": 37
        }
      ]
    },
    {
      "cell_type": "markdown",
      "metadata": {
        "id": "kSndxtpFq-of"
      },
      "source": [
        "Fitting KNN Classifier"
      ]
    },
    {
      "cell_type": "code",
      "metadata": {
        "id": "oWJKSB6l1sv8"
      },
      "source": [
        "yk_pred = classifier.predict(X_test)"
      ],
      "execution_count": null,
      "outputs": []
    },
    {
      "cell_type": "code",
      "metadata": {
        "colab": {
          "base_uri": "https://localhost:8080/"
        },
        "id": "ANw2Ey9FdUkG",
        "outputId": "8663b347-fc3c-4384-da2e-6323a688a1a3"
      },
      "source": [
        "from sklearn.model_selection import cross_val_score\r\n",
        "print(cross_val_score(estimator = classifier, X = X_train, y = Y_train, cv = 5, scoring='accuracy').mean())"
      ],
      "execution_count": null,
      "outputs": [
        {
          "output_type": "stream",
          "text": [
            "0.7973558306993989\n"
          ],
          "name": "stdout"
        }
      ]
    },
    {
      "cell_type": "markdown",
      "metadata": {
        "id": "EuVWDwdzrHvJ"
      },
      "source": [
        "Printing KNN Evaluation metrics"
      ]
    },
    {
      "cell_type": "code",
      "metadata": {
        "colab": {
          "base_uri": "https://localhost:8080/"
        },
        "id": "YAM78Xyt1sv9",
        "outputId": "b6124082-99ca-4be4-a734-c8207bf81113"
      },
      "source": [
        "from sklearn.metrics import classification_report, confusion_matrix, accuracy_score\n",
        "print(confusion_matrix(Y_test, yk_pred))\n",
        "print(classification_report(Y_test, yk_pred))\n",
        "accuracy_score(Y_test, yk_pred)"
      ],
      "execution_count": null,
      "outputs": [
        {
          "output_type": "stream",
          "text": [
            "[[1166  381]\n",
            " [ 213  353]]\n",
            "              precision    recall  f1-score   support\n",
            "\n",
            "           0       0.85      0.75      0.80      1547\n",
            "           1       0.48      0.62      0.54       566\n",
            "\n",
            "    accuracy                           0.72      2113\n",
            "   macro avg       0.66      0.69      0.67      2113\n",
            "weighted avg       0.75      0.72      0.73      2113\n",
            "\n"
          ],
          "name": "stdout"
        },
        {
          "output_type": "execute_result",
          "data": {
            "text/plain": [
              "0.7188831045906294"
            ]
          },
          "metadata": {
            "tags": []
          },
          "execution_count": 40
        }
      ]
    },
    {
      "cell_type": "markdown",
      "metadata": {
        "id": "lIZgrTNirQ7S"
      },
      "source": [
        "Printing KNN Confusion Matrix"
      ]
    },
    {
      "cell_type": "code",
      "metadata": {
        "colab": {
          "base_uri": "https://localhost:8080/",
          "height": 523
        },
        "id": "rvJ7bY8UgcY0",
        "outputId": "6fc36017-c677-44a4-8e4c-730263d7091c"
      },
      "source": [
        "yk_pred = classifier.predict(X_test)\r\n",
        "conf_mat = metrics.confusion_matrix(Y_test, yk_pred)\r\n",
        "plt.figure(figsize=(8,6))\r\n",
        "sns.heatmap(conf_mat,annot=True)\r\n",
        "plt.title(\"Confusion_matrix\")\r\n",
        "plt.xlabel(\"Predicted Class\")\r\n",
        "plt.ylabel(\"Actual class\")\r\n",
        "plt.show()\r\n",
        "print('Confusion matrix: \\n', conf_mat)\r\n",
        "print('TP: ', conf_mat[1,1])\r\n",
        "print('TN: ', conf_mat[0,0])\r\n",
        "print('FP: ', conf_mat[0,1])\r\n",
        "print('FN: ', conf_mat[1,0])"
      ],
      "execution_count": null,
      "outputs": [
        {
          "output_type": "display_data",
          "data": {
            "image/png": "[encoded data removed]",
            "text/plain": [
              "<Figure size 576x432 with 2 Axes>"
            ]
          },
          "metadata": {
            "tags": [],
            "needs_background": "light"
          }
        },
        {
          "output_type": "stream",
          "text": [
            "Confusion matrix: \n",
            " [[1166  381]\n",
            " [ 213  353]]\n",
            "TP:  353\n",
            "TN:  1166\n",
            "FP:  381\n",
            "FN:  213\n"
          ],
          "name": "stdout"
        }
      ]
    },
    {
      "cell_type": "markdown",
      "metadata": {
        "id": "IRtrqY6xrYGX"
      },
      "source": [
        "XG Boost Classiifer and Providing Grid Search Values"
      ]
    },
    {
      "cell_type": "code",
      "metadata": {
        "id": "iqtpAVukKYhf"
      },
      "source": [
        "xg_class=xgb.XGBClassifier(random_state=1)\r\n",
        "xggrid_param = {'n_estimators': [400, 450 ,500, 550, 600, 650, 700],'learning_rate': [0.01,0.1, 0.5, 1]}\r\n",
        "\r\n",
        "xggd_sr = GridSearchCV(estimator=xg_class, param_grid=xggrid_param, scoring='recall', cv=5)"
      ],
      "execution_count": null,
      "outputs": []
    },
    {
      "cell_type": "code",
      "metadata": {
        "colab": {
          "base_uri": "https://localhost:8080/"
        },
        "id": "o-K33OzLLCmO",
        "outputId": "e059f60a-9241-4b9f-bac3-ac8b15da23f9"
      },
      "source": [
        "xggd_sr.fit(X_train, Y_train)"
      ],
      "execution_count": null,
      "outputs": [
        {
          "output_type": "execute_result",
          "data": {
            "text/plain": [
              "GridSearchCV(cv=5, error_score=nan,\n",
              "             estimator=XGBClassifier(base_score=0.5, booster='gbtree',\n",
              "                                     colsample_bylevel=1, colsample_bynode=1,\n",
              "                                     colsample_bytree=1, gamma=0,\n",
              "                                     learning_rate=0.1, max_delta_step=0,\n",
              "                                     max_depth=3, min_child_weight=1,\n",
              "                                     missing=None, n_estimators=100, n_jobs=1,\n",
              "                                     nthread=None, objective='binary:logistic',\n",
              "                                     random_state=1, reg_alpha=0, reg_lambda=1,\n",
              "                                     scale_pos_weight=1, seed=None, silent=None,\n",
              "                                     subsample=1, verbosity=1),\n",
              "             iid='deprecated', n_jobs=None,\n",
              "             param_grid={'learning_rate': [0.01, 0.1, 0.5, 1],\n",
              "                         'n_estimators': [400, 450, 500, 550, 600, 650, 700]},\n",
              "             pre_dispatch='2*n_jobs', refit=True, return_train_score=False,\n",
              "             scoring='recall', verbose=0)"
            ]
          },
          "metadata": {
            "tags": []
          },
          "execution_count": 43
        }
      ]
    },
    {
      "cell_type": "markdown",
      "metadata": {
        "id": "DZw--bSfrh7h"
      },
      "source": [
        "Printing XGBoost Best Paramters"
      ]
    },
    {
      "cell_type": "code",
      "metadata": {
        "colab": {
          "base_uri": "https://localhost:8080/"
        },
        "id": "g6Rb5aItLQrW",
        "outputId": "a151f34e-fff4-43c1-d1ad-513bdb3ff437"
      },
      "source": [
        "best_parameters = xggd_sr.best_params_\r\n",
        "print(best_parameters)"
      ],
      "execution_count": null,
      "outputs": [
        {
          "output_type": "stream",
          "text": [
            "{'learning_rate': 0.01, 'n_estimators': 450}\n"
          ],
          "name": "stdout"
        }
      ]
    },
    {
      "cell_type": "code",
      "metadata": {
        "colab": {
          "base_uri": "https://localhost:8080/"
        },
        "id": "t2091ujvLQwR",
        "outputId": "69ce236a-10ef-4fec-bfc1-2b1e8b429399"
      },
      "source": [
        "best_result = xggd_sr.best_score_ # Mean cross-validated score of the best_estimator\r\n",
        "print(best_result)\r\n",
        "print(type(best_result))"
      ],
      "execution_count": null,
      "outputs": [
        {
          "output_type": "stream",
          "text": [
            "0.8640322979006363\n",
            "<class 'numpy.float64'>\n"
          ],
          "name": "stdout"
        }
      ]
    },
    {
      "cell_type": "markdown",
      "metadata": {
        "id": "QiI1d1QhrvLh"
      },
      "source": [
        "Printing XGBoost Evaluation Metrics"
      ]
    },
    {
      "cell_type": "code",
      "metadata": {
        "colab": {
          "base_uri": "https://localhost:8080/"
        },
        "id": "IeG6hckjL8-U",
        "outputId": "745969c6-aaa7-4587-9e1b-66f109b24fa4"
      },
      "source": [
        "from sklearn.metrics import confusion_matrix, accuracy_score, classification_report\r\n",
        "xg_class = xgb.XGBClassifier(n_estimators=450, learning_rate=0.01, random_state=1)\r\n",
        "xg_class.fit(X_train,Y_train)\r\n",
        "xgb_pred = xg_class.predict(X_test)\r\n",
        "print(confusion_matrix(Y_test,xgb_pred))\r\n",
        "print('Accuracy score:',accuracy_score(Y_test, xgb_pred))\r\n",
        "print(classification_report(Y_test, xgb_pred))"
      ],
      "execution_count": null,
      "outputs": [
        {
          "output_type": "stream",
          "text": [
            "[[1153  394]\n",
            " [ 144  422]]\n",
            "Accuracy score: 0.7453857075248462\n",
            "              precision    recall  f1-score   support\n",
            "\n",
            "           0       0.89      0.75      0.81      1547\n",
            "           1       0.52      0.75      0.61       566\n",
            "\n",
            "    accuracy                           0.75      2113\n",
            "   macro avg       0.70      0.75      0.71      2113\n",
            "weighted avg       0.79      0.75      0.76      2113\n",
            "\n"
          ],
          "name": "stdout"
        }
      ]
    },
    {
      "cell_type": "markdown",
      "metadata": {
        "id": "jQkjv8OZr3Qz"
      },
      "source": [
        "Plotting XGBoost Confusion Matrix"
      ]
    },
    {
      "cell_type": "code",
      "metadata": {
        "colab": {
          "base_uri": "https://localhost:8080/",
          "height": 523
        },
        "id": "AiJVJmjwNIIJ",
        "outputId": "0bce94cd-6764-4f5b-fc38-773b3976690e"
      },
      "source": [
        "xgb_pred = xg_class.predict(X_test)\r\n",
        "conf_mat = metrics.confusion_matrix(Y_test, xgb_pred)\r\n",
        "plt.figure(figsize=(8,6))\r\n",
        "sns.heatmap(conf_mat,annot=True)\r\n",
        "plt.title(\"Confusion_matrix\")\r\n",
        "plt.xlabel(\"Predicted Class\")\r\n",
        "plt.ylabel(\"Actual class\")\r\n",
        "plt.show()\r\n",
        "print('Confusion matrix: \\n', conf_mat)\r\n",
        "print('TP: ', conf_mat[1,1])\r\n",
        "print('TN: ', conf_mat[0,0])\r\n",
        "print('FP: ', conf_mat[0,1])\r\n",
        "print('FN: ', conf_mat[1,0])"
      ],
      "execution_count": null,
      "outputs": [
        {
          "output_type": "display_data",
          "data": {
            "image/png": "[encoded data removed]",
            "text/plain": [
              "<Figure size 576x432 with 2 Axes>"
            ]
          },
          "metadata": {
            "tags": [],
            "needs_background": "light"
          }
        },
        {
          "output_type": "stream",
          "text": [
            "Confusion matrix: \n",
            " [[1153  394]\n",
            " [ 144  422]]\n",
            "TP:  422\n",
            "TN:  1153\n",
            "FP:  394\n",
            "FN:  144\n"
          ],
          "name": "stdout"
        }
      ]
    },
    {
      "cell_type": "markdown",
      "metadata": {
        "id": "ZeCt1vo2sF9o"
      },
      "source": [
        "Importing Packages for ANN"
      ]
    },
    {
      "cell_type": "code",
      "metadata": {
        "id": "fErgX-v91sv-"
      },
      "source": [
        "import tensorflow as tf\n",
        "import keras\n",
        "from keras.models import Sequential\n",
        "from keras.layers import Dense\n",
        "from keras.layers import LeakyReLU, PReLU, ELU\n",
        "from keras.layers import Dropout"
      ],
      "execution_count": null,
      "outputs": []
    },
    {
      "cell_type": "code",
      "metadata": {
        "id": "SJbTgaNd1sv-"
      },
      "source": [
        "#pip install keras"
      ],
      "execution_count": null,
      "outputs": []
    },
    {
      "cell_type": "code",
      "metadata": {
        "id": "r_5b942-1sv-"
      },
      "source": [
        "#pip install tensorflow"
      ],
      "execution_count": null,
      "outputs": []
    },
    {
      "cell_type": "code",
      "metadata": {
        "id": "wqWPAzjr1sv-"
      },
      "source": [
        "ann = tf.keras.models.Sequential()"
      ],
      "execution_count": null,
      "outputs": []
    },
    {
      "cell_type": "code",
      "metadata": {
        "id": "05l20s7V1sv_"
      },
      "source": [
        "# Adding the input layer and the first hidden layer\n",
        "ann.add(Dense(units = 15, kernel_initializer = 'uniform', activation = 'relu', input_dim = 19))"
      ],
      "execution_count": null,
      "outputs": []
    },
    {
      "cell_type": "code",
      "metadata": {
        "id": "Bmq3b-rz1sv_"
      },
      "source": [
        "# Adding the second hidden layer\n",
        "ann.add(Dense(units = 15, kernel_initializer = 'uniform', activation = 'relu'))"
      ],
      "execution_count": null,
      "outputs": []
    },
    {
      "cell_type": "code",
      "metadata": {
        "id": "kF9USBqh1sv_"
      },
      "source": [
        "# Adding the output layer\n",
        "ann.add(Dense(units = 1, kernel_initializer = 'uniform', activation = 'sigmoid'))"
      ],
      "execution_count": null,
      "outputs": []
    },
    {
      "cell_type": "code",
      "metadata": {
        "id": "T_M495DH1swA"
      },
      "source": [
        "# Compiling the ANN\n",
        "ann.compile(optimizer = 'adam', loss = 'binary_crossentropy', metrics = ['Recall','accuracy','AUC'])"
      ],
      "execution_count": null,
      "outputs": []
    },
    {
      "cell_type": "markdown",
      "metadata": {
        "id": "nolm9urHsSEv"
      },
      "source": [
        "Fitting ANN with by providing epoch and batch sizes"
      ]
    },
    {
      "cell_type": "code",
      "metadata": {
        "colab": {
          "base_uri": "https://localhost:8080/"
        },
        "id": "Qvk-SBgA1swA",
        "outputId": "1f1954d1-a0d2-46f7-bd18-eb3b2b3cb5af"
      },
      "source": [
        "ann.fit(X_train, Y_train, batch_size = 10, epochs = 50)"
      ],
      "execution_count": null,
      "outputs": [
        {
          "output_type": "stream",
          "text": [
            "Epoch 1/50\n",
            "726/726 [==============================] - 2s 1ms/step - loss: 0.5759 - recall: 0.7634 - accuracy: 0.7393 - auc: 0.7806\n",
            "Epoch 2/50\n",
            "726/726 [==============================] - 1s 1ms/step - loss: 0.4665 - recall: 0.8189 - accuracy: 0.7815 - auc: 0.8587\n",
            "Epoch 3/50\n",
            "726/726 [==============================] - 1s 1ms/step - loss: 0.4668 - recall: 0.8049 - accuracy: 0.7805 - auc: 0.8582\n",
            "Epoch 4/50\n",
            "726/726 [==============================] - 1s 1ms/step - loss: 0.4558 - recall: 0.8084 - accuracy: 0.7921 - auc: 0.8648\n",
            "Epoch 5/50\n",
            "726/726 [==============================] - 1s 1ms/step - loss: 0.4528 - recall: 0.8058 - accuracy: 0.7905 - auc: 0.8675\n",
            "Epoch 6/50\n",
            "726/726 [==============================] - 1s 1ms/step - loss: 0.4426 - recall: 0.8192 - accuracy: 0.7977 - auc: 0.8739\n",
            "Epoch 7/50\n",
            "726/726 [==============================] - 1s 1ms/step - loss: 0.4493 - recall: 0.8217 - accuracy: 0.7929 - auc: 0.8692\n",
            "Epoch 8/50\n",
            "726/726 [==============================] - 1s 1ms/step - loss: 0.4331 - recall: 0.8219 - accuracy: 0.8010 - auc: 0.8798\n",
            "Epoch 9/50\n",
            "726/726 [==============================] - 1s 1ms/step - loss: 0.4354 - recall: 0.8234 - accuracy: 0.8019 - auc: 0.8782\n",
            "Epoch 10/50\n",
            "726/726 [==============================] - 1s 1ms/step - loss: 0.4407 - recall: 0.8252 - accuracy: 0.8029 - auc: 0.8755\n",
            "Epoch 11/50\n",
            "726/726 [==============================] - 1s 1ms/step - loss: 0.4317 - recall: 0.8355 - accuracy: 0.8076 - auc: 0.8799\n",
            "Epoch 12/50\n",
            "726/726 [==============================] - 1s 1ms/step - loss: 0.4362 - recall: 0.8206 - accuracy: 0.8015 - auc: 0.8763\n",
            "Epoch 13/50\n",
            "726/726 [==============================] - 1s 1ms/step - loss: 0.4395 - recall: 0.8225 - accuracy: 0.8001 - auc: 0.8764\n",
            "Epoch 14/50\n",
            "726/726 [==============================] - 1s 1ms/step - loss: 0.4313 - recall: 0.8339 - accuracy: 0.8011 - auc: 0.8799\n",
            "Epoch 15/50\n",
            "726/726 [==============================] - 1s 1ms/step - loss: 0.4265 - recall: 0.8401 - accuracy: 0.8124 - auc: 0.8833\n",
            "Epoch 16/50\n",
            "726/726 [==============================] - 1s 1ms/step - loss: 0.4267 - recall: 0.8263 - accuracy: 0.8050 - auc: 0.8823\n",
            "Epoch 17/50\n",
            "726/726 [==============================] - 1s 1ms/step - loss: 0.4232 - recall: 0.8444 - accuracy: 0.8144 - auc: 0.8837\n",
            "Epoch 18/50\n",
            "726/726 [==============================] - 1s 1ms/step - loss: 0.4134 - recall: 0.8435 - accuracy: 0.8167 - auc: 0.8908\n",
            "Epoch 19/50\n",
            "726/726 [==============================] - 1s 1ms/step - loss: 0.4167 - recall: 0.8331 - accuracy: 0.8099 - auc: 0.8891\n",
            "Epoch 20/50\n",
            "726/726 [==============================] - 1s 1ms/step - loss: 0.4146 - recall: 0.8387 - accuracy: 0.8164 - auc: 0.8905\n",
            "Epoch 21/50\n",
            "726/726 [==============================] - 1s 1ms/step - loss: 0.4186 - recall: 0.8419 - accuracy: 0.8144 - auc: 0.8868\n",
            "Epoch 22/50\n",
            "726/726 [==============================] - 1s 1ms/step - loss: 0.4088 - recall: 0.8397 - accuracy: 0.8204 - auc: 0.8933\n",
            "Epoch 23/50\n",
            "726/726 [==============================] - 1s 1ms/step - loss: 0.4113 - recall: 0.8464 - accuracy: 0.8169 - auc: 0.8919\n",
            "Epoch 24/50\n",
            "726/726 [==============================] - 1s 1ms/step - loss: 0.4150 - recall: 0.8490 - accuracy: 0.8124 - auc: 0.8891\n",
            "Epoch 25/50\n",
            "726/726 [==============================] - 1s 1ms/step - loss: 0.4003 - recall: 0.8550 - accuracy: 0.8255 - auc: 0.8980\n",
            "Epoch 26/50\n",
            "726/726 [==============================] - 1s 1ms/step - loss: 0.4098 - recall: 0.8369 - accuracy: 0.8119 - auc: 0.8917\n",
            "Epoch 27/50\n",
            "726/726 [==============================] - 1s 1ms/step - loss: 0.4208 - recall: 0.8217 - accuracy: 0.8051 - auc: 0.8854\n",
            "Epoch 28/50\n",
            "726/726 [==============================] - 1s 1ms/step - loss: 0.4005 - recall: 0.8458 - accuracy: 0.8221 - auc: 0.8971\n",
            "Epoch 29/50\n",
            "726/726 [==============================] - 1s 1ms/step - loss: 0.3975 - recall: 0.8514 - accuracy: 0.8253 - auc: 0.8987\n",
            "Epoch 30/50\n",
            "726/726 [==============================] - 1s 1ms/step - loss: 0.4080 - recall: 0.8477 - accuracy: 0.8175 - auc: 0.8933\n",
            "Epoch 31/50\n",
            "726/726 [==============================] - 1s 1ms/step - loss: 0.3996 - recall: 0.8513 - accuracy: 0.8231 - auc: 0.8981\n",
            "Epoch 32/50\n",
            "726/726 [==============================] - 1s 1ms/step - loss: 0.4059 - recall: 0.8480 - accuracy: 0.8227 - auc: 0.8951\n",
            "Epoch 33/50\n",
            "726/726 [==============================] - 1s 1ms/step - loss: 0.4058 - recall: 0.8519 - accuracy: 0.8255 - auc: 0.8952\n",
            "Epoch 34/50\n",
            "726/726 [==============================] - 1s 1ms/step - loss: 0.3990 - recall: 0.8492 - accuracy: 0.8268 - auc: 0.8988\n",
            "Epoch 35/50\n",
            "726/726 [==============================] - 1s 1ms/step - loss: 0.3872 - recall: 0.8555 - accuracy: 0.8276 - auc: 0.9042\n",
            "Epoch 36/50\n",
            "726/726 [==============================] - 1s 1ms/step - loss: 0.3980 - recall: 0.8559 - accuracy: 0.8235 - auc: 0.8977\n",
            "Epoch 37/50\n",
            "726/726 [==============================] - 1s 1ms/step - loss: 0.4004 - recall: 0.8532 - accuracy: 0.8212 - auc: 0.8970\n",
            "Epoch 38/50\n",
            "726/726 [==============================] - 1s 1ms/step - loss: 0.4051 - recall: 0.8478 - accuracy: 0.8188 - auc: 0.8952\n",
            "Epoch 39/50\n",
            "726/726 [==============================] - 1s 1ms/step - loss: 0.3879 - recall: 0.8621 - accuracy: 0.8312 - auc: 0.9050\n",
            "Epoch 40/50\n",
            "726/726 [==============================] - 1s 1ms/step - loss: 0.4102 - recall: 0.8548 - accuracy: 0.8179 - auc: 0.8913\n",
            "Epoch 41/50\n",
            "726/726 [==============================] - 1s 1ms/step - loss: 0.4023 - recall: 0.8534 - accuracy: 0.8245 - auc: 0.8965\n",
            "Epoch 42/50\n",
            "726/726 [==============================] - 1s 1ms/step - loss: 0.3906 - recall: 0.8599 - accuracy: 0.8287 - auc: 0.9026\n",
            "Epoch 43/50\n",
            "726/726 [==============================] - 1s 1ms/step - loss: 0.4038 - recall: 0.8587 - accuracy: 0.8240 - auc: 0.8949\n",
            "Epoch 44/50\n",
            "726/726 [==============================] - 1s 1ms/step - loss: 0.3972 - recall: 0.8593 - accuracy: 0.8268 - auc: 0.8992\n",
            "Epoch 45/50\n",
            "726/726 [==============================] - 1s 1ms/step - loss: 0.3991 - recall: 0.8538 - accuracy: 0.8219 - auc: 0.8981\n",
            "Epoch 46/50\n",
            "726/726 [==============================] - 1s 1ms/step - loss: 0.3940 - recall: 0.8568 - accuracy: 0.8250 - auc: 0.9007\n",
            "Epoch 47/50\n",
            "726/726 [==============================] - 1s 1ms/step - loss: 0.3944 - recall: 0.8598 - accuracy: 0.8275 - auc: 0.8993\n",
            "Epoch 48/50\n",
            "726/726 [==============================] - 1s 1ms/step - loss: 0.4018 - recall: 0.8567 - accuracy: 0.8230 - auc: 0.8977\n",
            "Epoch 49/50\n",
            "726/726 [==============================] - 1s 1ms/step - loss: 0.3885 - recall: 0.8565 - accuracy: 0.8276 - auc: 0.9032\n",
            "Epoch 50/50\n",
            "726/726 [==============================] - 1s 1ms/step - loss: 0.3944 - recall: 0.8619 - accuracy: 0.8260 - auc: 0.8994\n"
          ],
          "name": "stdout"
        },
        {
          "output_type": "execute_result",
          "data": {
            "text/plain": [
              "<tensorflow.python.keras.callbacks.History at 0x7fe071c8b4e0>"
            ]
          },
          "metadata": {
            "tags": []
          },
          "execution_count": 54
        }
      ]
    },
    {
      "cell_type": "markdown",
      "metadata": {
        "id": "Z2ulleRmsjWh"
      },
      "source": [
        "ANN prediction on test set"
      ]
    },
    {
      "cell_type": "code",
      "metadata": {
        "colab": {
          "base_uri": "https://localhost:8080/"
        },
        "id": "PDif94T51swA",
        "outputId": "22a58dbd-2851-429e-8e91-364a911545fa"
      },
      "source": [
        "yann_pred = ann.predict(X_test)\n",
        "yannb_pred = (yann_pred > 0.5)\n",
        "print(np.concatenate((yannb_pred.reshape(len(yannb_pred),1), Y_test.values.reshape(len(Y_test),1)),1))"
      ],
      "execution_count": null,
      "outputs": [
        {
          "output_type": "stream",
          "text": [
            "[[0 0]\n",
            " [0 0]\n",
            " [0 0]\n",
            " ...\n",
            " [1 0]\n",
            " [1 0]\n",
            " [0 0]]\n"
          ],
          "name": "stdout"
        }
      ]
    },
    {
      "cell_type": "markdown",
      "metadata": {
        "id": "QyAX6UeRsons"
      },
      "source": [
        "Printing ANN evaluation metrics"
      ]
    },
    {
      "cell_type": "code",
      "metadata": {
        "colab": {
          "base_uri": "https://localhost:8080/"
        },
        "id": "owZxrQUE1swB",
        "outputId": "758d994f-d2c3-4d63-dc56-42aad99b4af4"
      },
      "source": [
        "from sklearn.metrics import confusion_matrix, accuracy_score, classification_report\n",
        "cm = confusion_matrix(Y_test, yannb_pred)\n",
        "print(cm)\n",
        "print(\"accuracy: %f\" % accuracy_score(Y_test, yannb_pred))\n",
        "print(classification_report(Y_test, yannb_pred))"
      ],
      "execution_count": null,
      "outputs": [
        {
          "output_type": "stream",
          "text": [
            "[[1142  405]\n",
            " [ 149  417]]\n",
            "accuracy: 0.737814\n",
            "              precision    recall  f1-score   support\n",
            "\n",
            "           0       0.88      0.74      0.80      1547\n",
            "           1       0.51      0.74      0.60       566\n",
            "\n",
            "    accuracy                           0.74      2113\n",
            "   macro avg       0.70      0.74      0.70      2113\n",
            "weighted avg       0.78      0.74      0.75      2113\n",
            "\n"
          ],
          "name": "stdout"
        }
      ]
    },
    {
      "cell_type": "markdown",
      "metadata": {
        "id": "wlrw4mKxsueF"
      },
      "source": [
        "Printing ANN Confusion matrix"
      ]
    },
    {
      "cell_type": "code",
      "metadata": {
        "id": "p_vyX_iq1swB",
        "colab": {
          "base_uri": "https://localhost:8080/",
          "height": 523
        },
        "outputId": "804f7bd0-fe4c-41a4-d709-274118069192"
      },
      "source": [
        "yann_pred = ann.predict(X_test)\r\n",
        "conf_mat = metrics.confusion_matrix(Y_test, yannb_pred)\r\n",
        "plt.figure(figsize=(8,6))\r\n",
        "sns.heatmap(conf_mat,annot=True)\r\n",
        "plt.title(\"Confusion_matrix\")\r\n",
        "plt.xlabel(\"Predicted Class\")\r\n",
        "plt.ylabel(\"Actual class\")\r\n",
        "plt.show()\r\n",
        "print('Confusion matrix: \\n', conf_mat)\r\n",
        "print('TP: ', conf_mat[1,1])\r\n",
        "print('TN: ', conf_mat[0,0])\r\n",
        "print('FP: ', conf_mat[0,1])\r\n",
        "print('FN: ', conf_mat[1,0])"
      ],
      "execution_count": null,
      "outputs": [
        {
          "output_type": "display_data",
          "data": {
            "image/png": "[encoded data removed]",
            "text/plain": [
              "<Figure size 576x432 with 2 Axes>"
            ]
          },
          "metadata": {
            "tags": [],
            "needs_background": "light"
          }
        },
        {
          "output_type": "stream",
          "text": [
            "Confusion matrix: \n",
            " [[1142  405]\n",
            " [ 149  417]]\n",
            "TP:  417\n",
            "TN:  1142\n",
            "FP:  405\n",
            "FN:  149\n"
          ],
          "name": "stdout"
        }
      ]
    }
  ]
}